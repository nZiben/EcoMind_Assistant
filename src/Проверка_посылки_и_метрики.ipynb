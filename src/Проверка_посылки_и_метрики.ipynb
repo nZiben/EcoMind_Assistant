{
  "cells": [
    {
      "cell_type": "code",
      "execution_count": 23,
      "metadata": {},
      "outputs": [
        {
          "name": "stdout",
          "output_type": "stream",
          "text": [
            "Collecting openpyxl\n",
            "  Downloading openpyxl-3.1.5-py2.py3-none-any.whl.metadata (2.5 kB)\n",
            "Collecting et-xmlfile (from openpyxl)\n",
            "  Downloading et_xmlfile-2.0.0-py3-none-any.whl.metadata (2.7 kB)\n",
            "Downloading openpyxl-3.1.5-py2.py3-none-any.whl (250 kB)\n",
            "   ---------------------------------------- 0.0/250.9 kB ? eta -:--:--\n",
            "   - -------------------------------------- 10.2/250.9 kB ? eta -:--:--\n",
            "   - -------------------------------------- 10.2/250.9 kB ? eta -:--:--\n",
            "   ------ -------------------------------- 41.0/250.9 kB 281.8 kB/s eta 0:00:01\n",
            "   -------------- ------------------------ 92.2/250.9 kB 525.1 kB/s eta 0:00:01\n",
            "   ----------------------------- -------- 194.6/250.9 kB 908.0 kB/s eta 0:00:01\n",
            "   ---------------------------------------- 250.9/250.9 kB 1.0 MB/s eta 0:00:00\n",
            "Downloading et_xmlfile-2.0.0-py3-none-any.whl (18 kB)\n",
            "Installing collected packages: et-xmlfile, openpyxl\n",
            "Successfully installed et-xmlfile-2.0.0 openpyxl-3.1.5\n"
          ]
        },
        {
          "name": "stderr",
          "output_type": "stream",
          "text": [
            "\n",
            "[notice] A new release of pip is available: 24.0 -> 24.2\n",
            "[notice] To update, run: C:\\Users\\serzh\\AppData\\Local\\Microsoft\\WindowsApps\\PythonSoftwareFoundation.Python.3.11_qbz5n2kfra8p0\\python.exe -m pip install --upgrade pip\n"
          ]
        }
      ],
      "source": [
        "!pip install openpyxl"
      ]
    },
    {
      "cell_type": "code",
      "execution_count": 56,
      "metadata": {},
      "outputs": [],
      "source": [
        "import numpy as np\n",
        "import pandas as pd"
      ]
    },
    {
      "cell_type": "code",
      "execution_count": 49,
      "metadata": {
        "colab": {
          "base_uri": "https://localhost:8080/",
          "height": 206
        },
        "id": "9QmBMhCr29iq",
        "outputId": "41d40ad1-8698-4605-eb42-22b2e656780f"
      },
      "outputs": [
        {
          "data": {
            "text/html": [
              "<div>\n",
              "<style scoped>\n",
              "    .dataframe tbody tr th:only-of-type {\n",
              "        vertical-align: middle;\n",
              "    }\n",
              "\n",
              "    .dataframe tbody tr th {\n",
              "        vertical-align: top;\n",
              "    }\n",
              "\n",
              "    .dataframe thead th {\n",
              "        text-align: right;\n",
              "    }\n",
              "</style>\n",
              "<table border=\"1\" class=\"dataframe\">\n",
              "  <thead>\n",
              "    <tr style=\"text-align: right;\">\n",
              "      <th></th>\n",
              "      <th>Вопрос</th>\n",
              "      <th>Ответ</th>\n",
              "      <th>Документ</th>\n",
              "    </tr>\n",
              "    <tr>\n",
              "      <th>№ п/п</th>\n",
              "      <th></th>\n",
              "      <th></th>\n",
              "      <th></th>\n",
              "    </tr>\n",
              "  </thead>\n",
              "  <tbody>\n",
              "    <tr>\n",
              "      <th>1</th>\n",
              "      <td>Какие существуют типы источников выбросов? При...</td>\n",
              "      <td>Организованные (дымовые трубы, выходы вентиляц...</td>\n",
              "      <td>Нет</td>\n",
              "    </tr>\n",
              "    <tr>\n",
              "      <th>2</th>\n",
              "      <td>Расписать состав тома инвентаризации</td>\n",
              "      <td>ВВЕДЕНИЕ\\n1.СВЕДЕНИЯ О ХОЗЯЙСТВУЮЩЕМ СУБЪЕКТЕ,...</td>\n",
              "      <td>Нет</td>\n",
              "    </tr>\n",
              "    <tr>\n",
              "      <th>3</th>\n",
              "      <td>Для каких предприятий разрабатывается инвентар...</td>\n",
              "      <td>Инвентаризация стационарных источников и выбро...</td>\n",
              "      <td>Нет</td>\n",
              "    </tr>\n",
              "    <tr>\n",
              "      <th>4</th>\n",
              "      <td>Как присваиваются номера ИВ?</td>\n",
              "      <td>Для каждого ИЗАВ начиная с 01.</td>\n",
              "      <td>Нет</td>\n",
              "    </tr>\n",
              "    <tr>\n",
              "      <th>5</th>\n",
              "      <td>Какие бывают методы определения качественных и...</td>\n",
              "      <td>Инструментальные (лабораторные) и расчетные (н...</td>\n",
              "      <td>Нет</td>\n",
              "    </tr>\n",
              "  </tbody>\n",
              "</table>\n",
              "</div>"
            ],
            "text/plain": [
              "                                                  Вопрос  \\\n",
              "№ п/п                                                      \n",
              "1      Какие существуют типы источников выбросов? При...   \n",
              "2                   Расписать состав тома инвентаризации   \n",
              "3      Для каких предприятий разрабатывается инвентар...   \n",
              "4                           Как присваиваются номера ИВ?   \n",
              "5      Какие бывают методы определения качественных и...   \n",
              "\n",
              "                                                   Ответ Документ  \n",
              "№ п/п                                                              \n",
              "1      Организованные (дымовые трубы, выходы вентиляц...      Нет  \n",
              "2      ВВЕДЕНИЕ\\n1.СВЕДЕНИЯ О ХОЗЯЙСТВУЮЩЕМ СУБЪЕКТЕ,...      Нет  \n",
              "3      Инвентаризация стационарных источников и выбро...      Нет  \n",
              "4                         Для каждого ИЗАВ начиная с 01.      Нет  \n",
              "5      Инструментальные (лабораторные) и расчетные (н...      Нет  "
            ]
          },
          "execution_count": 49,
          "metadata": {},
          "output_type": "execute_result"
        }
      ],
      "source": [
        "df = pd.read_excel(\"../documents/train_dset.xlsx\", index_col=0)\n",
        "\n",
        "df.head(5)"
      ]
    },
    {
      "cell_type": "code",
      "execution_count": 7,
      "metadata": {
        "id": "Xe6NuN4B4ATx"
      },
      "outputs": [
        {
          "name": "stderr",
          "output_type": "stream",
          "text": [
            "\n",
            "[notice] A new release of pip is available: 24.0 -> 24.2\n",
            "[notice] To update, run: C:\\Users\\serzh\\AppData\\Local\\Microsoft\\WindowsApps\\PythonSoftwareFoundation.Python.3.11_qbz5n2kfra8p0\\python.exe -m pip install --upgrade pip\n"
          ]
        },
        {
          "name": "stdout",
          "output_type": "stream",
          "text": [
            "Collecting nltk\n",
            "  Downloading nltk-3.9.1-py3-none-any.whl.metadata (2.9 kB)\n",
            "Requirement already satisfied: click in c:\\users\\serzh\\appdata\\local\\packages\\pythonsoftwarefoundation.python.3.11_qbz5n2kfra8p0\\localcache\\local-packages\\python311\\site-packages (from nltk) (8.1.7)\n",
            "Requirement already satisfied: joblib in c:\\users\\serzh\\appdata\\local\\packages\\pythonsoftwarefoundation.python.3.11_qbz5n2kfra8p0\\localcache\\local-packages\\python311\\site-packages (from nltk) (1.2.0)\n",
            "Requirement already satisfied: regex>=2021.8.3 in c:\\users\\serzh\\appdata\\local\\packages\\pythonsoftwarefoundation.python.3.11_qbz5n2kfra8p0\\localcache\\local-packages\\python311\\site-packages (from nltk) (2024.9.11)\n",
            "Requirement already satisfied: tqdm in c:\\users\\serzh\\appdata\\local\\packages\\pythonsoftwarefoundation.python.3.11_qbz5n2kfra8p0\\localcache\\local-packages\\python311\\site-packages (from nltk) (4.66.5)\n",
            "Requirement already satisfied: colorama in c:\\users\\serzh\\appdata\\local\\packages\\pythonsoftwarefoundation.python.3.11_qbz5n2kfra8p0\\localcache\\local-packages\\python311\\site-packages (from click->nltk) (0.4.6)\n",
            "Downloading nltk-3.9.1-py3-none-any.whl (1.5 MB)\n",
            "   ---------------------------------------- 0.0/1.5 MB ? eta -:--:--\n",
            "   ---------------------------------------- 0.0/1.5 MB ? eta -:--:--\n",
            "   ---------------------------------------- 0.0/1.5 MB ? eta -:--:--\n",
            "    --------------------------------------- 0.0/1.5 MB 217.9 kB/s eta 0:00:07\n",
            "   - -------------------------------------- 0.0/1.5 MB 217.9 kB/s eta 0:00:07\n",
            "   -- ------------------------------------- 0.1/1.5 MB 435.7 kB/s eta 0:00:04\n",
            "   ----- ---------------------------------- 0.2/1.5 MB 827.9 kB/s eta 0:00:02\n",
            "   ------- -------------------------------- 0.3/1.5 MB 980.4 kB/s eta 0:00:02\n",
            "   ----------- ---------------------------- 0.4/1.5 MB 1.2 MB/s eta 0:00:01\n",
            "   -------------- ------------------------- 0.5/1.5 MB 1.4 MB/s eta 0:00:01\n",
            "   ---------------------- ----------------- 0.8/1.5 MB 1.9 MB/s eta 0:00:01\n",
            "   ------------------------------- -------- 1.2/1.5 MB 2.4 MB/s eta 0:00:01\n",
            "   -------------------------------------- - 1.5/1.5 MB 2.8 MB/s eta 0:00:01\n",
            "   -------------------------------------- - 1.5/1.5 MB 2.8 MB/s eta 0:00:01\n",
            "   -------------------------------------- - 1.5/1.5 MB 2.8 MB/s eta 0:00:01\n",
            "   -------------------------------------- - 1.5/1.5 MB 2.8 MB/s eta 0:00:01\n",
            "   -------------------------------------- - 1.5/1.5 MB 2.8 MB/s eta 0:00:01\n",
            "   -------------------------------------- - 1.5/1.5 MB 2.8 MB/s eta 0:00:01\n",
            "   -------------------------------------- - 1.5/1.5 MB 2.8 MB/s eta 0:00:01\n",
            "   -------------------------------------- - 1.5/1.5 MB 2.8 MB/s eta 0:00:01\n",
            "   -------------------------------------- - 1.5/1.5 MB 2.8 MB/s eta 0:00:01\n",
            "   ---------------------------------------  1.5/1.5 MB 1.6 MB/s eta 0:00:01\n",
            "   ---------------------------------------  1.5/1.5 MB 1.6 MB/s eta 0:00:01\n",
            "   ---------------------------------------  1.5/1.5 MB 1.4 MB/s eta 0:00:01\n",
            "   ---------------------------------------  1.5/1.5 MB 1.4 MB/s eta 0:00:01\n",
            "   ---------------------------------------- 1.5/1.5 MB 1.3 MB/s eta 0:00:00\n",
            "Installing collected packages: nltk\n",
            "Successfully installed nltk-3.9.1\n"
          ]
        },
        {
          "name": "stderr",
          "output_type": "stream",
          "text": [
            "\n",
            "[notice] A new release of pip is available: 24.0 -> 24.2\n",
            "[notice] To update, run: C:\\Users\\serzh\\AppData\\Local\\Microsoft\\WindowsApps\\PythonSoftwareFoundation.Python.3.11_qbz5n2kfra8p0\\python.exe -m pip install --upgrade pip\n"
          ]
        }
      ],
      "source": [
        "!pip install -q evaluate bert_score\n",
        "!pip install nltk"
      ]
    },
    {
      "cell_type": "code",
      "execution_count": 5,
      "metadata": {
        "id": "F6irSSX839oq"
      },
      "outputs": [
        {
          "name": "stderr",
          "output_type": "stream",
          "text": [
            "C:\\Users\\serzh\\AppData\\Local\\Packages\\PythonSoftwareFoundation.Python.3.11_qbz5n2kfra8p0\\LocalCache\\local-packages\\Python311\\site-packages\\tqdm\\auto.py:21: TqdmWarning: IProgress not found. Please update jupyter and ipywidgets. See https://ipywidgets.readthedocs.io/en/stable/user_install.html\n",
            "  from .autonotebook import tqdm as notebook_tqdm\n"
          ]
        }
      ],
      "source": [
        "import evaluate\n",
        "from evaluate import load"
      ]
    },
    {
      "cell_type": "code",
      "execution_count": 8,
      "metadata": {
        "colab": {
          "base_uri": "https://localhost:8080/"
        },
        "id": "2Ilh4yIp3s_G",
        "outputId": "6f9eeeb0-fa97-4847-ad8e-0a3273cf7411"
      },
      "outputs": [
        {
          "name": "stderr",
          "output_type": "stream",
          "text": [
            "[nltk_data] Downloading package wordnet to\n",
            "[nltk_data]     C:\\Users\\serzh\\AppData\\Roaming\\nltk_data...\n",
            "[nltk_data] Downloading package punkt_tab to\n",
            "[nltk_data]     C:\\Users\\serzh\\AppData\\Roaming\\nltk_data...\n",
            "[nltk_data]   Unzipping tokenizers\\punkt_tab.zip.\n",
            "[nltk_data] Downloading package omw-1.4 to\n",
            "[nltk_data]     C:\\Users\\serzh\\AppData\\Roaming\\nltk_data...\n",
            "Downloading builder script: 100%|██████████| 7.95k/7.95k [00:00<?, ?B/s]\n"
          ]
        }
      ],
      "source": [
        "meteor = evaluate.load('meteor')\n",
        "bertscore = load(\"bertscore\")"
      ]
    },
    {
      "cell_type": "markdown",
      "metadata": {},
      "source": [
        "# Получение ответов"
      ]
    },
    {
      "cell_type": "code",
      "execution_count": 15,
      "metadata": {},
      "outputs": [
        {
          "name": "stdout",
          "output_type": "stream",
          "text": [
            "Collecting mistralai\n",
            "  Downloading mistralai-1.1.0-py3-none-any.whl.metadata (23 kB)\n",
            "Collecting eval-type-backport<0.3.0,>=0.2.0 (from mistralai)\n",
            "  Downloading eval_type_backport-0.2.0-py3-none-any.whl.metadata (2.2 kB)\n",
            "Requirement already satisfied: httpx<0.28.0,>=0.27.0 in c:\\users\\serzh\\appdata\\local\\packages\\pythonsoftwarefoundation.python.3.11_qbz5n2kfra8p0\\localcache\\local-packages\\python311\\site-packages (from mistralai) (0.27.2)\n",
            "Collecting jsonpath-python<2.0.0,>=1.0.6 (from mistralai)\n",
            "  Downloading jsonpath_python-1.0.6-py3-none-any.whl.metadata (12 kB)\n",
            "Collecting pydantic<3.0.0,>=2.9.0 (from mistralai)\n",
            "  Downloading pydantic-2.9.2-py3-none-any.whl.metadata (149 kB)\n",
            "     ---------------------------------------- 0.0/149.4 kB ? eta -:--:--\n",
            "     -------- ------------------------------ 30.7/149.4 kB 1.3 MB/s eta 0:00:01\n",
            "     ----------------- ------------------- 71.7/149.4 kB 787.7 kB/s eta 0:00:01\n",
            "     ------------------------------------ - 143.4/149.4 kB 1.2 MB/s eta 0:00:01\n",
            "     -------------------------------------- 149.4/149.4 kB 1.1 MB/s eta 0:00:00\n",
            "Requirement already satisfied: python-dateutil==2.8.2 in c:\\users\\serzh\\appdata\\local\\packages\\pythonsoftwarefoundation.python.3.11_qbz5n2kfra8p0\\localcache\\local-packages\\python311\\site-packages (from mistralai) (2.8.2)\n",
            "Requirement already satisfied: typing-inspect<0.10.0,>=0.9.0 in c:\\users\\serzh\\appdata\\local\\packages\\pythonsoftwarefoundation.python.3.11_qbz5n2kfra8p0\\localcache\\local-packages\\python311\\site-packages (from mistralai) (0.9.0)\n",
            "Requirement already satisfied: six>=1.5 in c:\\users\\serzh\\appdata\\local\\packages\\pythonsoftwarefoundation.python.3.11_qbz5n2kfra8p0\\localcache\\local-packages\\python311\\site-packages (from python-dateutil==2.8.2->mistralai) (1.16.0)\n",
            "Requirement already satisfied: anyio in c:\\users\\serzh\\appdata\\local\\packages\\pythonsoftwarefoundation.python.3.11_qbz5n2kfra8p0\\localcache\\local-packages\\python311\\site-packages (from httpx<0.28.0,>=0.27.0->mistralai) (4.2.0)\n",
            "Requirement already satisfied: certifi in c:\\users\\serzh\\appdata\\local\\packages\\pythonsoftwarefoundation.python.3.11_qbz5n2kfra8p0\\localcache\\local-packages\\python311\\site-packages (from httpx<0.28.0,>=0.27.0->mistralai) (2024.2.2)\n",
            "Requirement already satisfied: httpcore==1.* in c:\\users\\serzh\\appdata\\local\\packages\\pythonsoftwarefoundation.python.3.11_qbz5n2kfra8p0\\localcache\\local-packages\\python311\\site-packages (from httpx<0.28.0,>=0.27.0->mistralai) (1.0.2)\n",
            "Requirement already satisfied: idna in c:\\users\\serzh\\appdata\\local\\packages\\pythonsoftwarefoundation.python.3.11_qbz5n2kfra8p0\\localcache\\local-packages\\python311\\site-packages (from httpx<0.28.0,>=0.27.0->mistralai) (3.7)\n",
            "Requirement already satisfied: sniffio in c:\\users\\serzh\\appdata\\local\\packages\\pythonsoftwarefoundation.python.3.11_qbz5n2kfra8p0\\localcache\\local-packages\\python311\\site-packages (from httpx<0.28.0,>=0.27.0->mistralai) (1.3.0)\n",
            "Requirement already satisfied: h11<0.15,>=0.13 in c:\\users\\serzh\\appdata\\local\\packages\\pythonsoftwarefoundation.python.3.11_qbz5n2kfra8p0\\localcache\\local-packages\\python311\\site-packages (from httpcore==1.*->httpx<0.28.0,>=0.27.0->mistralai) (0.14.0)\n",
            "Requirement already satisfied: annotated-types>=0.6.0 in c:\\users\\serzh\\appdata\\local\\packages\\pythonsoftwarefoundation.python.3.11_qbz5n2kfra8p0\\localcache\\local-packages\\python311\\site-packages (from pydantic<3.0.0,>=2.9.0->mistralai) (0.6.0)\n",
            "Collecting pydantic-core==2.23.4 (from pydantic<3.0.0,>=2.9.0->mistralai)\n",
            "  Downloading pydantic_core-2.23.4-cp311-none-win_amd64.whl.metadata (6.7 kB)\n",
            "Requirement already satisfied: typing-extensions>=4.6.1 in c:\\users\\serzh\\appdata\\local\\packages\\pythonsoftwarefoundation.python.3.11_qbz5n2kfra8p0\\localcache\\local-packages\\python311\\site-packages (from pydantic<3.0.0,>=2.9.0->mistralai) (4.9.0)\n",
            "Requirement already satisfied: mypy-extensions>=0.3.0 in c:\\users\\serzh\\appdata\\local\\packages\\pythonsoftwarefoundation.python.3.11_qbz5n2kfra8p0\\localcache\\local-packages\\python311\\site-packages (from typing-inspect<0.10.0,>=0.9.0->mistralai) (1.0.0)\n",
            "Downloading mistralai-1.1.0-py3-none-any.whl (229 kB)\n",
            "   ---------------------------------------- 0.0/229.7 kB ? eta -:--:--\n",
            "   --------------------- ------------------ 122.9/229.7 kB 7.0 MB/s eta 0:00:01\n",
            "   ------------------------------ --------- 174.1/229.7 kB 2.1 MB/s eta 0:00:01\n",
            "   ---------------------------------------- 229.7/229.7 kB 2.0 MB/s eta 0:00:00\n",
            "Downloading eval_type_backport-0.2.0-py3-none-any.whl (5.9 kB)\n",
            "Downloading jsonpath_python-1.0.6-py3-none-any.whl (7.6 kB)\n",
            "Downloading pydantic-2.9.2-py3-none-any.whl (434 kB)\n",
            "   ---------------------------------------- 0.0/434.9 kB ? eta -:--:--\n",
            "   ----------------------- ---------------- 256.0/434.9 kB 7.9 MB/s eta 0:00:01\n",
            "   ----------------------------------- ---- 389.1/434.9 kB 4.9 MB/s eta 0:00:01\n",
            "   ---------------------------------------- 434.9/434.9 kB 4.6 MB/s eta 0:00:00\n",
            "Downloading pydantic_core-2.23.4-cp311-none-win_amd64.whl (1.9 MB)\n",
            "   ---------------------------------------- 0.0/1.9 MB ? eta -:--:--\n",
            "   ------ --------------------------------- 0.3/1.9 MB 6.3 MB/s eta 0:00:01\n",
            "   ------------- -------------------------- 0.6/1.9 MB 6.8 MB/s eta 0:00:01\n",
            "   ------------------- -------------------- 0.9/1.9 MB 6.4 MB/s eta 0:00:01\n",
            "   ------------------------- -------------- 1.2/1.9 MB 6.5 MB/s eta 0:00:01\n",
            "   ------------------------------ --------- 1.5/1.9 MB 6.2 MB/s eta 0:00:01\n",
            "   ------------------------------ --------- 1.5/1.9 MB 6.2 MB/s eta 0:00:01\n",
            "   ------------------------------- -------- 1.5/1.9 MB 4.8 MB/s eta 0:00:01\n",
            "   -------------------------------------- - 1.8/1.9 MB 4.9 MB/s eta 0:00:01\n",
            "   ---------------------------------------- 1.9/1.9 MB 4.9 MB/s eta 0:00:00\n",
            "Installing collected packages: pydantic-core, jsonpath-python, eval-type-backport, pydantic, mistralai\n",
            "  Attempting uninstall: pydantic-core\n",
            "    Found existing installation: pydantic_core 2.18.2\n",
            "    Uninstalling pydantic_core-2.18.2:\n",
            "      Successfully uninstalled pydantic_core-2.18.2\n",
            "  Attempting uninstall: pydantic\n",
            "    Found existing installation: pydantic 2.7.1\n",
            "    Uninstalling pydantic-2.7.1:\n",
            "      Successfully uninstalled pydantic-2.7.1\n",
            "Successfully installed eval-type-backport-0.2.0 jsonpath-python-1.0.6 mistralai-1.1.0 pydantic-2.9.2 pydantic-core-2.23.4\n"
          ]
        },
        {
          "name": "stderr",
          "output_type": "stream",
          "text": [
            "ERROR: pip's dependency resolver does not currently take into account all the packages that are installed. This behaviour is the source of the following dependency conflicts.\n",
            "gigaserve 0.0.51 requires pydantic<2,>=1.1.13, but you have pydantic 2.9.2 which is incompatible.\n",
            "\n",
            "[notice] A new release of pip is available: 24.0 -> 24.2\n",
            "[notice] To update, run: C:\\Users\\serzh\\AppData\\Local\\Microsoft\\WindowsApps\\PythonSoftwareFoundation.Python.3.11_qbz5n2kfra8p0\\python.exe -m pip install --upgrade pip\n"
          ]
        }
      ],
      "source": [
        "!pip install mistralai"
      ]
    },
    {
      "cell_type": "code",
      "execution_count": 16,
      "metadata": {},
      "outputs": [],
      "source": [
        "from mistralai import Mistral"
      ]
    },
    {
      "cell_type": "code",
      "execution_count": 17,
      "metadata": {},
      "outputs": [],
      "source": [
        "api_key = '1MbVc4n2iUxhJgOx1lfaUXuXJtzOVG0b'\n",
        "\n",
        "model = \"mistral-large-latest\"\n",
        "client = Mistral(api_key=api_key)\n",
        "\n"
      ]
    },
    {
      "cell_type": "code",
      "execution_count": 31,
      "metadata": {},
      "outputs": [
        {
          "data": {
            "text/plain": [
              "84"
            ]
          },
          "execution_count": 31,
          "metadata": {},
          "output_type": "execute_result"
        }
      ],
      "source": [
        "len(df)"
      ]
    },
    {
      "cell_type": "code",
      "execution_count": 32,
      "metadata": {},
      "outputs": [],
      "source": [
        "answers = []"
      ]
    },
    {
      "cell_type": "code",
      "execution_count": 35,
      "metadata": {},
      "outputs": [
        {
          "name": "stdout",
          "output_type": "stream",
          "text": [
            "0\n",
            "1\n",
            "2\n",
            "3\n",
            "4\n",
            "5\n",
            "6\n",
            "7\n",
            "8\n",
            "9\n",
            "10\n",
            "11\n",
            "12\n",
            "13\n",
            "14\n",
            "15\n",
            "16\n",
            "17\n",
            "18\n",
            "19\n",
            "20\n",
            "21\n",
            "22\n",
            "23\n",
            "24\n",
            "25\n",
            "26\n",
            "27\n",
            "28\n",
            "29\n",
            "30\n",
            "31\n",
            "32\n",
            "33\n",
            "34\n",
            "35\n",
            "36\n",
            "37\n",
            "38\n",
            "39\n",
            "40\n",
            "41\n",
            "42\n",
            "43\n",
            "44\n",
            "45\n",
            "46\n",
            "47\n",
            "48\n",
            "49\n",
            "50\n",
            "51\n",
            "52\n",
            "53\n",
            "54\n",
            "55\n",
            "56\n",
            "57\n",
            "58\n",
            "59\n",
            "60\n",
            "61\n",
            "62\n",
            "63\n",
            "64\n",
            "65\n",
            "66\n",
            "67\n",
            "68\n",
            "69\n",
            "70\n",
            "71\n",
            "72\n",
            "73\n",
            "74\n",
            "75\n",
            "76\n",
            "77\n",
            "78\n",
            "79\n",
            "80\n",
            "81\n",
            "82\n",
            "83\n"
          ]
        }
      ],
      "source": [
        "for i in range(len(df)):\n",
        "    print(i)\n",
        "    chat_response = client.chat.complete(\n",
        "    model=model,\n",
        "    messages=[\n",
        "        {\"role\": \"system\", \"content\":\"Ты — эксперт в области экологии, защиты окружающей среды и экологического права. Твоя задача — помогать пользователям находить ответы на вопросы об экологии, экологических нормах, правилах и стандартах. Предоставь максимально подробный и точный ответ на вопрос, используя всю свою экспертную информацию!\"},\n",
        "        {\"role\": \"user\", \"content\": df.iloc[i]['Вопрос']}\n",
        "    ]\n",
        "    )\n",
        "    answers.append(chat_response)"
      ]
    },
    {
      "cell_type": "code",
      "execution_count": 36,
      "metadata": {},
      "outputs": [
        {
          "data": {
            "text/plain": [
              "([ChatCompletionResponse(id='4e09685273094623b877538590edbe3f', object='chat.completion', model='mistral-large-latest', usage=UsageInfo(prompt_tokens=151, completion_tokens=1217, total_tokens=1368), created=1729947881, choices=[ChatCompletionChoice(index=0, message=AssistantMessage(content='Источники выбросов можно классифицировать по различным критериям, включая их происхождение, характер и местоположение. Вот основные типы источников выбросов с примерами:\\n\\n### 1. Источники выбросов по происхождению\\n\\n#### А. Природные источники\\n- **Вулканы**: Выбросы углекислого газа, сернистых соединений и пепла.\\n- **Лесные пожары**: Выбросы углекислого газа, угарного газа и мелкодисперсных частиц.\\n- **Гейзеры и горячие источники**: Выбросы сернистых соединений и углекислого газа.\\n\\n#### Б. Антропогенные источники\\n- **Промышленные предприятия**: Выбросы диоксида серы, оксидов азота и твердых частиц (например, цементные заводы, металлургические комбинаты).\\n- **Транспортные средства**: Выбросы оксидов азота, углекислого газа и оксида углерода (например, автомобили, самолеты, корабли).\\n- **Теплоэлектростанции**: Выбросы диоксида серы, оксидов азота и углекислого газа.\\n- **Сельское хозяйство**: Выбросы метана (например, от животноводства), аммиака (от использования удобрений).\\n- **Коммунальные системы**: Выбросы диоксида серы, оксидов азота и твердых частиц (например, мусоросжигательные заводы).\\n\\n### 2. Источники выбросов по характеру\\n\\n#### А. Точечные источники\\n- **Трубы и дымоходы**: Выбросы от промышленных предприятий и теплоэлектростанций.\\n- **Вентиляционные системы**: Выбросы от зданий и сооружений.\\n\\n#### Б. Линейные источники\\n- **Автомобильные дороги**: Выбросы от транспортных средств.\\n- **Трубопроводы и кабельные линии**: Выбросы при утечках или повреждениях.\\n\\n#### В. Площадные источники\\n- **Свалки и полигоны**: Выбросы метана и других газов.\\n- **Сельскохозяйственные поля**: Выбросы аммиака и метана.\\n\\n### 3. Источники выбросов по местоположению\\n\\n#### А. Наземные источники\\n- **Промышленные зоны**: Выбросы от заводов и фабрик.\\n- **Транспортные узлы**: Выбросы от автомобилей, железных дорог и аэропортов.\\n\\n#### Б. Водные источники\\n- **Судоходство**: Выбросы от кораблей и судов.\\n- **Океанские аварии**: Утечки нефти и других загрязнителей.\\n\\n#### В. Подземные источники\\n- **Шахты и карьеры**: Выбросы метана и других газов.\\n- **Подземные хранилища**: Утечки нефти и газа.\\n\\n### 4. Источники выбросов по виду загрязнителей\\n\\n#### А. Газообразные выбросы\\n- **Диоксид серы (SO₂)**: Промышленные предприятия и теплоэлектростанции.\\n- **Оксиды азота (NOₓ)**: Транспортные средства и промышленные предприятия.\\n- **Углекислый газ (CO₂)**: Все виды сжигания ископаемого топлива.\\n\\n#### Б. Твердые частицы\\n- **Сажа и пыль**: Производственные процессы и транспортные средства.\\n- **Пепел**: Вулканы и лесные пожары.\\n\\n#### В. Жидкие выбросы\\n- **Нефть и нефтепродукты**: Утечки из трубопроводов и аварии на нефтяных платформах.\\n- **Кислоты и щелочи**: Промышленные процессы и аварии.\\n\\nЭти классификации помогают лучше понять разнообразие источников выбросов и разработать эффективные меры по их контролю и снижению.', tool_calls=None, prefix=False, role='assistant'), finish_reason='stop')]),\n",
              "  ChatCompletionResponse(id='c8972b6bcff1448789571e205a6198d7', object='chat.completion', model='mistral-large-latest', usage=UsageInfo(prompt_tokens=135, completion_tokens=1481, total_tokens=1616), created=1729947941, choices=[ChatCompletionChoice(index=0, message=AssistantMessage(content='Том инвентаризации — это документ, который используется для систематизации и учета данных о состоянии окружающей среды, природных ресурсов и других экологических аспектов. Состав тома инвентаризации может варьироваться в зависимости от конкретных целей и требований, но обычно включает следующие разделы:\\n\\n### 1. Введение\\n- **Цель и задачи инвентаризации**: Описание целей и задач, которые преследует данная инвентаризация.\\n- **Методология**: Описание методов и подходов, использованных для сбора и анализа данных.\\n- **Географический охват**: Описание территории, на которой проводилась инвентаризация.\\n\\n### 2. Описание объекта инвентаризации\\n- **Общие сведения**: Краткое описание объекта (например, лесной массив, водоем, промышленное предприятие и т.д.).\\n- **Географическое расположение**: Координаты, карты, описание границ.\\n- **История использования**: История эксплуатации и изменений объекта.\\n\\n### 3. Природные ресурсы\\n- **Почвы**: Характеристика почв, их типы, плодородие, эрозия.\\n- **Водные ресурсы**: Описание водоемов, гидрологические характеристики, качество воды.\\n- **Биологическое разнообразие**: Описание флоры и фауны, эндемичные и редкие виды.\\n- **Лесные ресурсы**: Характеристика лесов, их типы, состояние, ресурсы.\\n\\n### 4. Антропогенные факторы\\n- **Промышленные объекты**: Описание промышленных предприятий, их деятельность и влияние на окружающую среду.\\n- **Сельскохозяйственная деятельность**: Описание сельскохозяйственных угодий, методы ведения сельского хозяйства, использование агрохимикатов.\\n- **Транспортная инфраструктура**: Описание дорог, железных дорог, аэропортов и их влияние на окружающую среду.\\n\\n### 5. Экологическое состояние\\n- **Качество воздуха**: Данные о загрязнении воздуха, источники загрязнения.\\n- **Качество воды**: Данные о качестве воды в водоемах, источники загрязнения.\\n- **Качество почвы**: Данные о загрязнении почвы, источники загрязнения.\\n- **Биологическое состояние**: Описание состояния экосистем, биоразнообразия, угрозы и охрана.\\n\\n### 6. Экологические риски и угрозы\\n- **Природные риски**: Описание природных катастроф, их вероятность и влияние.\\n- **Антропогенные риски**: Описание рисков, связанных с деятельностью человека (например, промышленные аварии, загрязнение).\\n- **Социальные риски**: Описание рисков для здоровья населения, социально-экономические последствия.\\n\\n### 7. Меры по охране окружающей среды\\n- **Законодательные меры**: Описание законодательных актов и нормативных документов, регулирующих охрану окружающей среды.\\n- **Технические меры**: Описание технологий и методов, используемых для минимизации негативного воздействия на окружающую среду.\\n- **Организационные меры**: Описание программ и проектов по охране окружающей среды, участие общественных организаций.\\n\\n### 8. Рекомендации\\n- **Краткосрочные меры**: Рекомендации по немедленным действиям для улучшения экологической ситуации.\\n- **Долгосрочные меры**: Рекомендации по стратегическим действиям для устойчивого развития.\\n- **Мониторинг и контроль**: Рекомендации по организации системы мониторинга и контроля за состоянием окружающей среды.\\n\\n### 9. Заключение\\n- **Выводы**: Основные выводы, сделанные на основе проведенной инвентаризации.\\n- **Перспективы**: Возможные направления дальнейших исследований и действий.\\n\\n### 10. Приложения\\n- **Таблицы и графики**: Дополнительные данные в виде таблиц и графиков.\\n- **Карты**: Карты и схемы, иллюстрирующие данные инвентаризации.\\n- **Фотографии**: Фотографии объектов и территорий, описанных в документе.\\n\\nЭтот состав тома инвентаризации может быть адаптирован в зависимости от конкретных условий и требований, но он предоставляет общую структуру, которая помогает систематизировать и представить данные о состоянии окружающей среды.', tool_calls=None, prefix=False, role='assistant'), finish_reason='stop')]),\n",
              "  ChatCompletionResponse(id='b19c6faf0a514a8e88bce717b1b6625e', object='chat.completion', model='mistral-large-latest', usage=UsageInfo(prompt_tokens=142, completion_tokens=955, total_tokens=1097), created=1729947992, choices=[ChatCompletionChoice(index=0, message=AssistantMessage(content='Инвентаризация выбросов и сбросов загрязняющих веществ разрабатывается для различных категорий предприятий, в зависимости от их деятельности и влияния на окружающую среду. Основные категории предприятий, для которых требуется проведение инвентаризации, включают:\\n\\n1. **Промышленные предприятия**: Это предприятия, занимающиеся производством различных товаров и материалов, таких как металлургические, химические, нефтехимические, целлюлозно-бумажные и другие заводы. Эти предприятия часто являются крупными источниками выбросов в атмосферу и сбросов в водные объекты.\\n\\n2. **Энергетические предприятия**: Включают тепловые и гидроэлектростанции, а также другие объекты, связанные с производством и передачей энергии. Эти предприятия могут выбрасывать значительные количества загрязняющих веществ, таких как диоксид серы, оксиды азота и твердые частицы.\\n\\n3. **Транспортные предприятия**: Это предприятия, занимающиеся перевозкой людей и грузов, включая автомобильный, железнодорожный, воздушный и морской транспорт. Транспортные средства являются важным источником выбросов углекислого газа и других загрязняющих веществ.\\n\\n4. **Коммунальные предприятия**: Включают объекты водоснабжения и водоотведения, очистные сооружения, тепловые сети и другие коммунальные службы. Эти предприятия могут сбрасывать загрязняющие вещества в водные объекты и выбрасывать их в атмосферу.\\n\\n5. **Сельскохозяйственные предприятия**: Включают животноводческие комплексы, птицефабрики, а также сельскохозяйственные угодья, где используются удобрения и пестициды. Эти предприятия могут быть источниками загрязнения водных объектов и почв.\\n\\n6. **Предприятия строительной индустрии**: Включают строительные площадки, производство строительных материалов и другие объекты, связанные со строительством. Эти предприятия могут выбрасывать пыль, твердые частицы и другие загрязняющие вещества.\\n\\n7. **Предприятия торговли и общественного питания**: Включают торговые центры, рестораны, кафе и другие объекты, связанные с торговлей и общественным питанием. Эти предприятия могут быть источниками выбросов в атмосферу и сбросов в канализационные системы.\\n\\nИнвентаризация выбросов и сбросов загрязняющих веществ является важным инструментом для управления экологическими рисками и обеспечения соблюдения экологических норм и стандартов. Она позволяет предприятиям оценивать и контролировать свое воздействие на окружающую среду, а также разрабатывать меры по снижению выбросов и сбросов.', tool_calls=None, prefix=False, role='assistant'), finish_reason='stop')])],\n",
              " 84)"
            ]
          },
          "execution_count": 36,
          "metadata": {},
          "output_type": "execute_result"
        }
      ],
      "source": [
        "answers[:3], len(answers)"
      ]
    },
    {
      "cell_type": "code",
      "execution_count": 46,
      "metadata": {},
      "outputs": [
        {
          "data": {
            "text/plain": [
              "(['Источники выбросов можно классифицировать по различным критериям, включая их происхождение, характер и местоположение. Вот основные типы источников выбросов с примерами:\\n\\n### 1. Источники выбросов по происхождению\\n\\n#### А. Природные источники\\n- **Вулканы**: Выбросы углекислого газа, сернистых соединений и пепла.\\n- **Лесные пожары**: Выбросы углекислого газа, угарного газа и мелкодисперсных частиц.\\n- **Гейзеры и горячие источники**: Выбросы сернистых соединений и углекислого газа.\\n\\n#### Б. Антропогенные источники\\n- **Промышленные предприятия**: Выбросы диоксида серы, оксидов азота и твердых частиц (например, цементные заводы, металлургические комбинаты).\\n- **Транспортные средства**: Выбросы оксидов азота, углекислого газа и оксида углерода (например, автомобили, самолеты, корабли).\\n- **Теплоэлектростанции**: Выбросы диоксида серы, оксидов азота и углекислого газа.\\n- **Сельское хозяйство**: Выбросы метана (например, от животноводства), аммиака (от использования удобрений).\\n- **Коммунальные системы**: Выбросы диоксида серы, оксидов азота и твердых частиц (например, мусоросжигательные заводы).\\n\\n### 2. Источники выбросов по характеру\\n\\n#### А. Точечные источники\\n- **Трубы и дымоходы**: Выбросы от промышленных предприятий и теплоэлектростанций.\\n- **Вентиляционные системы**: Выбросы от зданий и сооружений.\\n\\n#### Б. Линейные источники\\n- **Автомобильные дороги**: Выбросы от транспортных средств.\\n- **Трубопроводы и кабельные линии**: Выбросы при утечках или повреждениях.\\n\\n#### В. Площадные источники\\n- **Свалки и полигоны**: Выбросы метана и других газов.\\n- **Сельскохозяйственные поля**: Выбросы аммиака и метана.\\n\\n### 3. Источники выбросов по местоположению\\n\\n#### А. Наземные источники\\n- **Промышленные зоны**: Выбросы от заводов и фабрик.\\n- **Транспортные узлы**: Выбросы от автомобилей, железных дорог и аэропортов.\\n\\n#### Б. Водные источники\\n- **Судоходство**: Выбросы от кораблей и судов.\\n- **Океанские аварии**: Утечки нефти и других загрязнителей.\\n\\n#### В. Подземные источники\\n- **Шахты и карьеры**: Выбросы метана и других газов.\\n- **Подземные хранилища**: Утечки нефти и газа.\\n\\n### 4. Источники выбросов по виду загрязнителей\\n\\n#### А. Газообразные выбросы\\n- **Диоксид серы (SO₂)**: Промышленные предприятия и теплоэлектростанции.\\n- **Оксиды азота (NOₓ)**: Транспортные средства и промышленные предприятия.\\n- **Углекислый газ (CO₂)**: Все виды сжигания ископаемого топлива.\\n\\n#### Б. Твердые частицы\\n- **Сажа и пыль**: Производственные процессы и транспортные средства.\\n- **Пепел**: Вулканы и лесные пожары.\\n\\n#### В. Жидкие выбросы\\n- **Нефть и нефтепродукты**: Утечки из трубопроводов и аварии на нефтяных платформах.\\n- **Кислоты и щелочи**: Промышленные процессы и аварии.\\n\\nЭти классификации помогают лучше понять разнообразие источников выбросов и разработать эффективные меры по их контролю и снижению.',\n",
              "  'Том инвентаризации — это документ, который используется для систематизации и учета данных о состоянии окружающей среды, природных ресурсов и других экологических аспектов. Состав тома инвентаризации может варьироваться в зависимости от конкретных целей и требований, но обычно включает следующие разделы:\\n\\n### 1. Введение\\n- **Цель и задачи инвентаризации**: Описание целей и задач, которые преследует данная инвентаризация.\\n- **Методология**: Описание методов и подходов, использованных для сбора и анализа данных.\\n- **Географический охват**: Описание территории, на которой проводилась инвентаризация.\\n\\n### 2. Описание объекта инвентаризации\\n- **Общие сведения**: Краткое описание объекта (например, лесной массив, водоем, промышленное предприятие и т.д.).\\n- **Географическое расположение**: Координаты, карты, описание границ.\\n- **История использования**: История эксплуатации и изменений объекта.\\n\\n### 3. Природные ресурсы\\n- **Почвы**: Характеристика почв, их типы, плодородие, эрозия.\\n- **Водные ресурсы**: Описание водоемов, гидрологические характеристики, качество воды.\\n- **Биологическое разнообразие**: Описание флоры и фауны, эндемичные и редкие виды.\\n- **Лесные ресурсы**: Характеристика лесов, их типы, состояние, ресурсы.\\n\\n### 4. Антропогенные факторы\\n- **Промышленные объекты**: Описание промышленных предприятий, их деятельность и влияние на окружающую среду.\\n- **Сельскохозяйственная деятельность**: Описание сельскохозяйственных угодий, методы ведения сельского хозяйства, использование агрохимикатов.\\n- **Транспортная инфраструктура**: Описание дорог, железных дорог, аэропортов и их влияние на окружающую среду.\\n\\n### 5. Экологическое состояние\\n- **Качество воздуха**: Данные о загрязнении воздуха, источники загрязнения.\\n- **Качество воды**: Данные о качестве воды в водоемах, источники загрязнения.\\n- **Качество почвы**: Данные о загрязнении почвы, источники загрязнения.\\n- **Биологическое состояние**: Описание состояния экосистем, биоразнообразия, угрозы и охрана.\\n\\n### 6. Экологические риски и угрозы\\n- **Природные риски**: Описание природных катастроф, их вероятность и влияние.\\n- **Антропогенные риски**: Описание рисков, связанных с деятельностью человека (например, промышленные аварии, загрязнение).\\n- **Социальные риски**: Описание рисков для здоровья населения, социально-экономические последствия.\\n\\n### 7. Меры по охране окружающей среды\\n- **Законодательные меры**: Описание законодательных актов и нормативных документов, регулирующих охрану окружающей среды.\\n- **Технические меры**: Описание технологий и методов, используемых для минимизации негативного воздействия на окружающую среду.\\n- **Организационные меры**: Описание программ и проектов по охране окружающей среды, участие общественных организаций.\\n\\n### 8. Рекомендации\\n- **Краткосрочные меры**: Рекомендации по немедленным действиям для улучшения экологической ситуации.\\n- **Долгосрочные меры**: Рекомендации по стратегическим действиям для устойчивого развития.\\n- **Мониторинг и контроль**: Рекомендации по организации системы мониторинга и контроля за состоянием окружающей среды.\\n\\n### 9. Заключение\\n- **Выводы**: Основные выводы, сделанные на основе проведенной инвентаризации.\\n- **Перспективы**: Возможные направления дальнейших исследований и действий.\\n\\n### 10. Приложения\\n- **Таблицы и графики**: Дополнительные данные в виде таблиц и графиков.\\n- **Карты**: Карты и схемы, иллюстрирующие данные инвентаризации.\\n- **Фотографии**: Фотографии объектов и территорий, описанных в документе.\\n\\nЭтот состав тома инвентаризации может быть адаптирован в зависимости от конкретных условий и требований, но он предоставляет общую структуру, которая помогает систематизировать и представить данные о состоянии окружающей среды.',\n",
              "  'Инвентаризация выбросов и сбросов загрязняющих веществ разрабатывается для различных категорий предприятий, в зависимости от их деятельности и влияния на окружающую среду. Основные категории предприятий, для которых требуется проведение инвентаризации, включают:\\n\\n1. **Промышленные предприятия**: Это предприятия, занимающиеся производством различных товаров и материалов, таких как металлургические, химические, нефтехимические, целлюлозно-бумажные и другие заводы. Эти предприятия часто являются крупными источниками выбросов в атмосферу и сбросов в водные объекты.\\n\\n2. **Энергетические предприятия**: Включают тепловые и гидроэлектростанции, а также другие объекты, связанные с производством и передачей энергии. Эти предприятия могут выбрасывать значительные количества загрязняющих веществ, таких как диоксид серы, оксиды азота и твердые частицы.\\n\\n3. **Транспортные предприятия**: Это предприятия, занимающиеся перевозкой людей и грузов, включая автомобильный, железнодорожный, воздушный и морской транспорт. Транспортные средства являются важным источником выбросов углекислого газа и других загрязняющих веществ.\\n\\n4. **Коммунальные предприятия**: Включают объекты водоснабжения и водоотведения, очистные сооружения, тепловые сети и другие коммунальные службы. Эти предприятия могут сбрасывать загрязняющие вещества в водные объекты и выбрасывать их в атмосферу.\\n\\n5. **Сельскохозяйственные предприятия**: Включают животноводческие комплексы, птицефабрики, а также сельскохозяйственные угодья, где используются удобрения и пестициды. Эти предприятия могут быть источниками загрязнения водных объектов и почв.\\n\\n6. **Предприятия строительной индустрии**: Включают строительные площадки, производство строительных материалов и другие объекты, связанные со строительством. Эти предприятия могут выбрасывать пыль, твердые частицы и другие загрязняющие вещества.\\n\\n7. **Предприятия торговли и общественного питания**: Включают торговые центры, рестораны, кафе и другие объекты, связанные с торговлей и общественным питанием. Эти предприятия могут быть источниками выбросов в атмосферу и сбросов в канализационные системы.\\n\\nИнвентаризация выбросов и сбросов загрязняющих веществ является важным инструментом для управления экологическими рисками и обеспечения соблюдения экологических норм и стандартов. Она позволяет предприятиям оценивать и контролировать свое воздействие на окружающую среду, а также разрабатывать меры по снижению выбросов и сбросов.'],\n",
              " 84)"
            ]
          },
          "execution_count": 46,
          "metadata": {},
          "output_type": "execute_result"
        }
      ],
      "source": [
        "answers_text = [answers[i].choices[0].message.content for i in range(len(answers))]\n",
        "answers_text[:3], len(answers_text)"
      ]
    },
    {
      "cell_type": "code",
      "execution_count": 50,
      "metadata": {},
      "outputs": [],
      "source": [
        "df['Ответ_модели'] = answers_text"
      ]
    },
    {
      "cell_type": "code",
      "execution_count": 51,
      "metadata": {},
      "outputs": [
        {
          "data": {
            "text/html": [
              "<div>\n",
              "<style scoped>\n",
              "    .dataframe tbody tr th:only-of-type {\n",
              "        vertical-align: middle;\n",
              "    }\n",
              "\n",
              "    .dataframe tbody tr th {\n",
              "        vertical-align: top;\n",
              "    }\n",
              "\n",
              "    .dataframe thead th {\n",
              "        text-align: right;\n",
              "    }\n",
              "</style>\n",
              "<table border=\"1\" class=\"dataframe\">\n",
              "  <thead>\n",
              "    <tr style=\"text-align: right;\">\n",
              "      <th></th>\n",
              "      <th>Вопрос</th>\n",
              "      <th>Ответ</th>\n",
              "      <th>Документ</th>\n",
              "      <th>Ответ_модели</th>\n",
              "    </tr>\n",
              "    <tr>\n",
              "      <th>№ п/п</th>\n",
              "      <th></th>\n",
              "      <th></th>\n",
              "      <th></th>\n",
              "      <th></th>\n",
              "    </tr>\n",
              "  </thead>\n",
              "  <tbody>\n",
              "    <tr>\n",
              "      <th>1</th>\n",
              "      <td>Какие существуют типы источников выбросов? При...</td>\n",
              "      <td>Организованные (дымовые трубы, выходы вентиляц...</td>\n",
              "      <td>Нет</td>\n",
              "      <td>Источники выбросов можно классифицировать по р...</td>\n",
              "    </tr>\n",
              "    <tr>\n",
              "      <th>2</th>\n",
              "      <td>Расписать состав тома инвентаризации</td>\n",
              "      <td>ВВЕДЕНИЕ\\n1.СВЕДЕНИЯ О ХОЗЯЙСТВУЮЩЕМ СУБЪЕКТЕ,...</td>\n",
              "      <td>Нет</td>\n",
              "      <td>Том инвентаризации — это документ, который исп...</td>\n",
              "    </tr>\n",
              "    <tr>\n",
              "      <th>3</th>\n",
              "      <td>Для каких предприятий разрабатывается инвентар...</td>\n",
              "      <td>Инвентаризация стационарных источников и выбро...</td>\n",
              "      <td>Нет</td>\n",
              "      <td>Инвентаризация выбросов и сбросов загрязняющих...</td>\n",
              "    </tr>\n",
              "    <tr>\n",
              "      <th>4</th>\n",
              "      <td>Как присваиваются номера ИВ?</td>\n",
              "      <td>Для каждого ИЗАВ начиная с 01.</td>\n",
              "      <td>Нет</td>\n",
              "      <td>Номера Инвентарные Вещества (ИВ) присваиваются...</td>\n",
              "    </tr>\n",
              "    <tr>\n",
              "      <th>5</th>\n",
              "      <td>Какие бывают методы определения качественных и...</td>\n",
              "      <td>Инструментальные (лабораторные) и расчетные (н...</td>\n",
              "      <td>Нет</td>\n",
              "      <td>ИЗАВ (источники загрязнения воздуха) могут быт...</td>\n",
              "    </tr>\n",
              "  </tbody>\n",
              "</table>\n",
              "</div>"
            ],
            "text/plain": [
              "                                                  Вопрос  \\\n",
              "№ п/п                                                      \n",
              "1      Какие существуют типы источников выбросов? При...   \n",
              "2                   Расписать состав тома инвентаризации   \n",
              "3      Для каких предприятий разрабатывается инвентар...   \n",
              "4                           Как присваиваются номера ИВ?   \n",
              "5      Какие бывают методы определения качественных и...   \n",
              "\n",
              "                                                   Ответ Документ  \\\n",
              "№ п/п                                                               \n",
              "1      Организованные (дымовые трубы, выходы вентиляц...      Нет   \n",
              "2      ВВЕДЕНИЕ\\n1.СВЕДЕНИЯ О ХОЗЯЙСТВУЮЩЕМ СУБЪЕКТЕ,...      Нет   \n",
              "3      Инвентаризация стационарных источников и выбро...      Нет   \n",
              "4                         Для каждого ИЗАВ начиная с 01.      Нет   \n",
              "5      Инструментальные (лабораторные) и расчетные (н...      Нет   \n",
              "\n",
              "                                            Ответ_модели  \n",
              "№ п/п                                                     \n",
              "1      Источники выбросов можно классифицировать по р...  \n",
              "2      Том инвентаризации — это документ, который исп...  \n",
              "3      Инвентаризация выбросов и сбросов загрязняющих...  \n",
              "4      Номера Инвентарные Вещества (ИВ) присваиваются...  \n",
              "5      ИЗАВ (источники загрязнения воздуха) могут быт...  "
            ]
          },
          "execution_count": 51,
          "metadata": {},
          "output_type": "execute_result"
        }
      ],
      "source": [
        "df.head()"
      ]
    },
    {
      "cell_type": "markdown",
      "metadata": {
        "id": "QbsCk-jLQWD8"
      },
      "source": [
        "## Пример расчёта метрик Meteor и BertScore"
      ]
    },
    {
      "cell_type": "code",
      "execution_count": null,
      "metadata": {},
      "outputs": [],
      "source": []
    },
    {
      "cell_type": "code",
      "execution_count": 52,
      "metadata": {
        "colab": {
          "base_uri": "https://localhost:8080/"
        },
        "id": "cE2KRHkt4w2A",
        "outputId": "e4c06ed2-4b39-4e1c-ddfa-c780da85cc63"
      },
      "outputs": [
        {
          "name": "stdout",
          "output_type": "stream",
          "text": [
            "{'meteor': 0.1088804666704356}\n"
          ]
        }
      ],
      "source": [
        "score_meteor = meteor.compute(predictions=df['Вопрос'].values.tolist(), references=df['Ответ'].values.tolist())\n",
        "print (score_meteor)"
      ]
    },
    {
      "cell_type": "markdown",
      "metadata": {},
      "source": [
        "наша модель"
      ]
    },
    {
      "cell_type": "code",
      "execution_count": 53,
      "metadata": {},
      "outputs": [
        {
          "name": "stdout",
          "output_type": "stream",
          "text": [
            "{'meteor': 0.018566870945618014}\n"
          ]
        }
      ],
      "source": [
        "score_meteor = meteor.compute(predictions=df['Вопрос'].values.tolist(), references=df['Ответ_модели'].values.tolist())\n",
        "print (score_meteor)"
      ]
    },
    {
      "cell_type": "code",
      "execution_count": 54,
      "metadata": {
        "colab": {
          "base_uri": "https://localhost:8080/"
        },
        "id": "ssju1UDqPzFx",
        "outputId": "4c75f3d9-4994-4de2-ce84-327cb1dd2b06"
      },
      "outputs": [
        {
          "name": "stderr",
          "output_type": "stream",
          "text": [
            "C:\\Users\\serzh\\AppData\\Local\\Packages\\PythonSoftwareFoundation.Python.3.11_qbz5n2kfra8p0\\LocalCache\\local-packages\\Python311\\site-packages\\huggingface_hub\\file_download.py:139: UserWarning: `huggingface_hub` cache-system uses symlinks by default to efficiently store duplicated files but your machine does not support them in C:\\Users\\serzh\\.cache\\huggingface\\hub\\models--bert-base-multilingual-cased. Caching files will still work but in a degraded version that might require more space on your disk. This warning can be disabled by setting the `HF_HUB_DISABLE_SYMLINKS_WARNING` environment variable. For more details, see https://huggingface.co/docs/huggingface_hub/how-to-cache#limitations.\n",
            "To support symlinks on Windows, you either need to activate Developer Mode or to run Python as an administrator. In order to activate developer mode, see this article: https://docs.microsoft.com/en-us/windows/apps/get-started/enable-your-device-for-development\n",
            "  warnings.warn(message)\n"
          ]
        }
      ],
      "source": [
        "score_bert = bertscore.compute(predictions=df['Вопрос'].values.tolist(), references=df['Ответ'].values.tolist(), lang=\"ru\")"
      ]
    },
    {
      "cell_type": "code",
      "execution_count": 57,
      "metadata": {
        "colab": {
          "base_uri": "https://localhost:8080/"
        },
        "id": "b36rJQFs4KGE",
        "outputId": "ed32ce5f-f4ab-49b3-b51d-a9ec9fa8b28e"
      },
      "outputs": [
        {
          "name": "stdout",
          "output_type": "stream",
          "text": [
            "Presicion 0.7060905929122653\n",
            "Recall 0.6345565535482907\n",
            "F1 0.66536341323739\n"
          ]
        }
      ],
      "source": [
        "print ('Presicion', np.array(score_bert['precision']).mean())\n",
        "print ('Recall', np.array(score_bert['recall']).mean())\n",
        "print ('F1', np.array(score_bert['f1']).mean())"
      ]
    },
    {
      "cell_type": "markdown",
      "metadata": {},
      "source": [
        "наша модель"
      ]
    },
    {
      "cell_type": "code",
      "execution_count": 58,
      "metadata": {},
      "outputs": [],
      "source": [
        "score_bert = bertscore.compute(predictions=df['Вопрос'].values.tolist(), references=df['Ответ_модели'].values.tolist(), lang=\"ru\")"
      ]
    },
    {
      "cell_type": "code",
      "execution_count": 59,
      "metadata": {},
      "outputs": [
        {
          "name": "stdout",
          "output_type": "stream",
          "text": [
            "Presicion 0.7284573344957261\n",
            "Recall 0.5309308980192456\n",
            "F1 0.6135415527082625\n"
          ]
        }
      ],
      "source": [
        "print ('Presicion', np.array(score_bert['precision']).mean())\n",
        "print ('Recall', np.array(score_bert['recall']).mean())\n",
        "print ('F1', np.array(score_bert['f1']).mean())"
      ]
    },
    {
      "cell_type": "markdown",
      "metadata": {
        "id": "LF8PaMJBRNzx"
      },
      "source": [
        "## Проверка example.csv"
      ]
    },
    {
      "cell_type": "code",
      "execution_count": 62,
      "metadata": {
        "id": "d78aP5gFRTl0"
      },
      "outputs": [],
      "source": [
        "try:\n",
        "    df = pd.read_csv('answers.csv', delimiter='\\t')\n",
        "except pd.errors.ParserError:\n",
        "    print(\"Ошибка: Не удалось разобрать CSV-файл. Убедитесь, что разделитель - tab.\")\n",
        "\n",
        "column_name = 'answer'\n",
        "if column_name not in df.columns:\n",
        "    print(f\"Столбец '{column_name}' не найден в таблице.\")\n",
        "else:\n",
        "    if len(df[column_name]) != 92:\n",
        "        print(f\"Длина столбца '{column_name}' не совпадает с длиной таблицы.\")"
      ]
    },
    {
      "cell_type": "code",
      "execution_count": null,
      "metadata": {
        "id": "xXkA3W-9TiOf"
      },
      "outputs": [],
      "source": []
    }
  ],
  "metadata": {
    "colab": {
      "provenance": []
    },
    "kernelspec": {
      "display_name": "Python 3",
      "name": "python3"
    },
    "language_info": {
      "codemirror_mode": {
        "name": "ipython",
        "version": 3
      },
      "file_extension": ".py",
      "mimetype": "text/x-python",
      "name": "python",
      "nbconvert_exporter": "python",
      "pygments_lexer": "ipython3",
      "version": "3.11.9"
    }
  },
  "nbformat": 4,
  "nbformat_minor": 0
}
