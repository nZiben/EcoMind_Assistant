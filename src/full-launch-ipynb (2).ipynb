{
 "cells": [
  {
   "cell_type": "code",
   "execution_count": 1,
   "metadata": {},
   "outputs": [
    {
     "name": "stdout",
     "output_type": "stream",
     "text": [
      "Collecting camelot\n",
      "  Using cached Camelot-12.06.29.tar.gz (3.5 MB)\n",
      "  Preparing metadata (setup.py) ... \u001b[?25ldone\n",
      "\u001b[?25hCollecting SQLAlchemy<0.8.0,>=0.7.7 (from camelot)\n",
      "  Using cached SQLAlchemy-0.7.10.tar.gz (3.5 MB)\n",
      "  Preparing metadata (setup.py) ... \u001b[?25ldone\n",
      "\u001b[?25hCollecting Elixir>=0.7.1 (from camelot)\n",
      "  Using cached Elixir-0.7.1.tar.gz (47 kB)\n",
      "  Preparing metadata (setup.py) ... \u001b[?25ldone\n",
      "\u001b[?25hCollecting sqlalchemy-migrate>=0.7.1 (from camelot)\n",
      "  Obtaining dependency information for sqlalchemy-migrate>=0.7.1 from https://files.pythonhosted.org/packages/1a/ba/0725bf5f54d0c5ed7c1da025215f288fb68ef4cc4966abfb76c1926ee0af/sqlalchemy_migrate-0.13.0-py2.py3-none-any.whl.metadata\n",
      "  Using cached sqlalchemy_migrate-0.13.0-py2.py3-none-any.whl.metadata (2.7 kB)\n",
      "Requirement already satisfied: Jinja2>=2.5.5 in /Users/ivanlopatkin/opt/anaconda3/lib/python3.9/site-packages (from camelot) (3.1.3)\n",
      "Requirement already satisfied: chardet>=1.0.1 in /Users/ivanlopatkin/opt/anaconda3/lib/python3.9/site-packages (from camelot) (4.0.0)\n",
      "Collecting xlwt==0.7.2 (from camelot)\n",
      "  Using cached xlwt-0.7.2.zip (131 kB)\n",
      "  Preparing metadata (setup.py) ... \u001b[?25ldone\n",
      "\u001b[?25hCollecting xlrd==0.7.1 (from camelot)\n",
      "  Using cached xlrd-0.7.1.zip (125 kB)\n",
      "  Preparing metadata (setup.py) ... \u001b[?25ldone\n",
      "\u001b[?25hRequirement already satisfied: MarkupSafe>=2.0 in /Users/ivanlopatkin/opt/anaconda3/lib/python3.9/site-packages (from Jinja2>=2.5.5->camelot) (2.0.1)\n",
      "Collecting pbr>=1.8 (from sqlalchemy-migrate>=0.7.1->camelot)\n",
      "  Obtaining dependency information for pbr>=1.8 from https://files.pythonhosted.org/packages/1d/44/6a65ecd630393d47ad3e7d5354768cb7f9a10b3a0eb2cd8c6f52b28211ee/pbr-6.1.0-py2.py3-none-any.whl.metadata\n",
      "  Using cached pbr-6.1.0-py2.py3-none-any.whl.metadata (3.4 kB)\n",
      "INFO: pip is looking at multiple versions of sqlalchemy-migrate to determine which version is compatible with other requirements. This could take a while.\n",
      "Collecting sqlalchemy-migrate>=0.7.1 (from camelot)\n",
      "  Obtaining dependency information for sqlalchemy-migrate>=0.7.1 from https://files.pythonhosted.org/packages/b5/99/92c4c90d5a22aac19554effd04789b78b5549c62fefbda1f42cc549b31b1/sqlalchemy_migrate-0.12.0-py2.py3-none-any.whl.metadata\n",
      "  Using cached sqlalchemy_migrate-0.12.0-py2.py3-none-any.whl.metadata (2.6 kB)\n",
      "  Using cached sqlalchemy-migrate-0.11.0.tar.gz (128 kB)\n",
      "  Preparing metadata (setup.py) ... \u001b[?25lerror\n",
      "  \u001b[1;31merror\u001b[0m: \u001b[1msubprocess-exited-with-error\u001b[0m\n",
      "  \n",
      "  \u001b[31m×\u001b[0m \u001b[32mpython setup.py egg_info\u001b[0m did not run successfully.\n",
      "  \u001b[31m│\u001b[0m exit code: \u001b[1;36m1\u001b[0m\n",
      "  \u001b[31m╰─>\u001b[0m \u001b[31m[84 lines of output]\u001b[0m\n",
      "  \u001b[31m   \u001b[0m /Users/ivanlopatkin/opt/anaconda3/lib/python3.9/site-packages/setuptools/dist.py:755: SetuptoolsDeprecationWarning: Invalid dash-separated options\n",
      "  \u001b[31m   \u001b[0m !!\n",
      "  \u001b[31m   \u001b[0m \n",
      "  \u001b[31m   \u001b[0m         ********************************************************************************\n",
      "  \u001b[31m   \u001b[0m         Usage of dash-separated 'description-file' will not be supported in future\n",
      "  \u001b[31m   \u001b[0m         versions. Please use the underscore name 'description_file' instead.\n",
      "  \u001b[31m   \u001b[0m \n",
      "  \u001b[31m   \u001b[0m         This deprecation is overdue, please update your project and remove deprecated\n",
      "  \u001b[31m   \u001b[0m         calls to avoid build errors in the future.\n",
      "  \u001b[31m   \u001b[0m \n",
      "  \u001b[31m   \u001b[0m         See https://setuptools.pypa.io/en/latest/userguide/declarative_config.html for details.\n",
      "  \u001b[31m   \u001b[0m         ********************************************************************************\n",
      "  \u001b[31m   \u001b[0m \n",
      "  \u001b[31m   \u001b[0m !!\n",
      "  \u001b[31m   \u001b[0m   opt = self.warn_dash_deprecation(opt, section)\n",
      "  \u001b[31m   \u001b[0m /Users/ivanlopatkin/opt/anaconda3/lib/python3.9/site-packages/setuptools/dist.py:755: SetuptoolsDeprecationWarning: Invalid dash-separated options\n",
      "  \u001b[31m   \u001b[0m !!\n",
      "  \u001b[31m   \u001b[0m \n",
      "  \u001b[31m   \u001b[0m         ********************************************************************************\n",
      "  \u001b[31m   \u001b[0m         Usage of dash-separated 'author-email' will not be supported in future\n",
      "  \u001b[31m   \u001b[0m         versions. Please use the underscore name 'author_email' instead.\n",
      "  \u001b[31m   \u001b[0m \n",
      "  \u001b[31m   \u001b[0m         This deprecation is overdue, please update your project and remove deprecated\n",
      "  \u001b[31m   \u001b[0m         calls to avoid build errors in the future.\n",
      "  \u001b[31m   \u001b[0m \n",
      "  \u001b[31m   \u001b[0m         See https://setuptools.pypa.io/en/latest/userguide/declarative_config.html for details.\n",
      "  \u001b[31m   \u001b[0m         ********************************************************************************\n",
      "  \u001b[31m   \u001b[0m \n",
      "  \u001b[31m   \u001b[0m !!\n",
      "  \u001b[31m   \u001b[0m   opt = self.warn_dash_deprecation(opt, section)\n",
      "  \u001b[31m   \u001b[0m /Users/ivanlopatkin/opt/anaconda3/lib/python3.9/site-packages/setuptools/dist.py:755: SetuptoolsDeprecationWarning: Invalid dash-separated options\n",
      "  \u001b[31m   \u001b[0m !!\n",
      "  \u001b[31m   \u001b[0m \n",
      "  \u001b[31m   \u001b[0m         ********************************************************************************\n",
      "  \u001b[31m   \u001b[0m         Usage of dash-separated 'home-page' will not be supported in future\n",
      "  \u001b[31m   \u001b[0m         versions. Please use the underscore name 'home_page' instead.\n",
      "  \u001b[31m   \u001b[0m \n",
      "  \u001b[31m   \u001b[0m         This deprecation is overdue, please update your project and remove deprecated\n",
      "  \u001b[31m   \u001b[0m         calls to avoid build errors in the future.\n",
      "  \u001b[31m   \u001b[0m \n",
      "  \u001b[31m   \u001b[0m         See https://setuptools.pypa.io/en/latest/userguide/declarative_config.html for details.\n",
      "  \u001b[31m   \u001b[0m         ********************************************************************************\n",
      "  \u001b[31m   \u001b[0m \n",
      "  \u001b[31m   \u001b[0m !!\n",
      "  \u001b[31m   \u001b[0m   opt = self.warn_dash_deprecation(opt, section)\n",
      "  \u001b[31m   \u001b[0m /Users/ivanlopatkin/opt/anaconda3/lib/python3.9/site-packages/setuptools/__init__.py:84: _DeprecatedInstaller: setuptools.installer and fetch_build_eggs are deprecated.\n",
      "  \u001b[31m   \u001b[0m !!\n",
      "  \u001b[31m   \u001b[0m \n",
      "  \u001b[31m   \u001b[0m         ********************************************************************************\n",
      "  \u001b[31m   \u001b[0m         Requirements should be satisfied by a PEP 517 installer.\n",
      "  \u001b[31m   \u001b[0m         If you are using pip, you can try `pip install --use-pep517`.\n",
      "  \u001b[31m   \u001b[0m         ********************************************************************************\n",
      "  \u001b[31m   \u001b[0m \n",
      "  \u001b[31m   \u001b[0m !!\n",
      "  \u001b[31m   \u001b[0m   dist.fetch_build_eggs(dist.setup_requires)\n",
      "  \u001b[31m   \u001b[0m /Users/ivanlopatkin/opt/anaconda3/lib/python3.9/site-packages/setuptools/command/develop.py:40: EasyInstallDeprecationWarning: easy_install command is deprecated.\n",
      "  \u001b[31m   \u001b[0m !!\n",
      "  \u001b[31m   \u001b[0m \n",
      "  \u001b[31m   \u001b[0m         ********************************************************************************\n",
      "  \u001b[31m   \u001b[0m         Please avoid running ``setup.py`` and ``easy_install``.\n",
      "  \u001b[31m   \u001b[0m         Instead, use pypa/build, pypa/installer, pypa/build or\n",
      "  \u001b[31m   \u001b[0m         other standards-based tools.\n",
      "  \u001b[31m   \u001b[0m \n",
      "  \u001b[31m   \u001b[0m         See https://github.com/pypa/setuptools/issues/917 for details.\n",
      "  \u001b[31m   \u001b[0m         ********************************************************************************\n",
      "  \u001b[31m   \u001b[0m \n",
      "  \u001b[31m   \u001b[0m !!\n",
      "  \u001b[31m   \u001b[0m   easy_install.initialize_options(self)\n",
      "  \u001b[31m   \u001b[0m /Users/ivanlopatkin/opt/anaconda3/lib/python3.9/site-packages/setuptools/_distutils/cmd.py:66: SetuptoolsDeprecationWarning: setup.py install is deprecated.\n",
      "  \u001b[31m   \u001b[0m !!\n",
      "  \u001b[31m   \u001b[0m \n",
      "  \u001b[31m   \u001b[0m         ********************************************************************************\n",
      "  \u001b[31m   \u001b[0m         Please avoid running ``setup.py`` directly.\n",
      "  \u001b[31m   \u001b[0m         Instead, use pypa/build, pypa/installer, pypa/build or\n",
      "  \u001b[31m   \u001b[0m         other standards-based tools.\n",
      "  \u001b[31m   \u001b[0m \n",
      "  \u001b[31m   \u001b[0m         See https://blog.ganssle.io/articles/2021/10/setup-py-deprecated.html for details.\n",
      "  \u001b[31m   \u001b[0m         ********************************************************************************\n",
      "  \u001b[31m   \u001b[0m \n",
      "  \u001b[31m   \u001b[0m !!\n",
      "  \u001b[31m   \u001b[0m   self.initialize_options()\n",
      "  \u001b[31m   \u001b[0m error in setup command: 'tests_require' must be a string or list of strings containing valid project/version requirement specifiers; Expected end or semicolon (after version specifier)\n",
      "  \u001b[31m   \u001b[0m     pytz>=2010h\n",
      "  \u001b[31m   \u001b[0m         ~~~~~~^\n",
      "  \u001b[31m   \u001b[0m \u001b[31m[end of output]\u001b[0m\n",
      "  \n",
      "  \u001b[1;35mnote\u001b[0m: This error originates from a subprocess, and is likely not a problem with pip.\n",
      "\u001b[1;31merror\u001b[0m: \u001b[1mmetadata-generation-failed\u001b[0m\n",
      "\n",
      "\u001b[31m×\u001b[0m Encountered error while generating package metadata.\n",
      "\u001b[31m╰─>\u001b[0m See above for output.\n",
      "\n",
      "\u001b[1;35mnote\u001b[0m: This is an issue with the package mentioned above, not pip.\n",
      "\u001b[1;36mhint\u001b[0m: See above for details.\n",
      "\u001b[?25h"
     ]
    }
   ],
   "source": [
    "!pip install camelot"
   ]
  },
  {
   "cell_type": "code",
   "execution_count": 2,
   "metadata": {
    "tags": []
   },
   "outputs": [
    {
     "name": "stdout",
     "output_type": "stream",
     "text": [
      "Requirement already satisfied: langchain in /Users/ivanlopatkin/opt/anaconda3/lib/python3.9/site-packages (0.3.4)\n",
      "Requirement already satisfied: PyYAML>=5.3 in /Users/ivanlopatkin/opt/anaconda3/lib/python3.9/site-packages (from langchain) (6.0)\n",
      "Requirement already satisfied: SQLAlchemy<3,>=1.4 in /Users/ivanlopatkin/opt/anaconda3/lib/python3.9/site-packages (from langchain) (1.4.39)\n",
      "Requirement already satisfied: aiohttp<4.0.0,>=3.8.3 in /Users/ivanlopatkin/opt/anaconda3/lib/python3.9/site-packages (from langchain) (3.9.1)\n",
      "Requirement already satisfied: async-timeout<5.0.0,>=4.0.0 in /Users/ivanlopatkin/opt/anaconda3/lib/python3.9/site-packages (from langchain) (4.0.3)\n",
      "Requirement already satisfied: langchain-core<0.4.0,>=0.3.12 in /Users/ivanlopatkin/opt/anaconda3/lib/python3.9/site-packages (from langchain) (0.3.13)\n",
      "Requirement already satisfied: langchain-text-splitters<0.4.0,>=0.3.0 in /Users/ivanlopatkin/opt/anaconda3/lib/python3.9/site-packages (from langchain) (0.3.0)\n",
      "Requirement already satisfied: langsmith<0.2.0,>=0.1.17 in /Users/ivanlopatkin/opt/anaconda3/lib/python3.9/site-packages (from langchain) (0.1.137)\n",
      "Requirement already satisfied: numpy<2,>=1 in /Users/ivanlopatkin/opt/anaconda3/lib/python3.9/site-packages (from langchain) (1.23.5)\n",
      "Requirement already satisfied: pydantic<3.0.0,>=2.7.4 in /Users/ivanlopatkin/opt/anaconda3/lib/python3.9/site-packages (from langchain) (2.9.2)\n",
      "Requirement already satisfied: requests<3,>=2 in /Users/ivanlopatkin/.local/lib/python3.9/site-packages (from langchain) (2.31.0)\n",
      "Requirement already satisfied: tenacity!=8.4.0,<10,>=8.1.0 in /Users/ivanlopatkin/opt/anaconda3/lib/python3.9/site-packages (from langchain) (9.0.0)\n",
      "Requirement already satisfied: attrs>=17.3.0 in /Users/ivanlopatkin/opt/anaconda3/lib/python3.9/site-packages (from aiohttp<4.0.0,>=3.8.3->langchain) (23.2.0)\n",
      "Requirement already satisfied: multidict<7.0,>=4.5 in /Users/ivanlopatkin/opt/anaconda3/lib/python3.9/site-packages (from aiohttp<4.0.0,>=3.8.3->langchain) (6.0.4)\n",
      "Requirement already satisfied: yarl<2.0,>=1.0 in /Users/ivanlopatkin/opt/anaconda3/lib/python3.9/site-packages (from aiohttp<4.0.0,>=3.8.3->langchain) (1.9.4)\n",
      "Requirement already satisfied: frozenlist>=1.1.1 in /Users/ivanlopatkin/opt/anaconda3/lib/python3.9/site-packages (from aiohttp<4.0.0,>=3.8.3->langchain) (1.4.0)\n",
      "Requirement already satisfied: aiosignal>=1.1.2 in /Users/ivanlopatkin/opt/anaconda3/lib/python3.9/site-packages (from aiohttp<4.0.0,>=3.8.3->langchain) (1.3.1)\n",
      "Requirement already satisfied: jsonpatch<2.0,>=1.33 in /Users/ivanlopatkin/opt/anaconda3/lib/python3.9/site-packages (from langchain-core<0.4.0,>=0.3.12->langchain) (1.33)\n",
      "Requirement already satisfied: packaging<25,>=23.2 in /Users/ivanlopatkin/opt/anaconda3/lib/python3.9/site-packages (from langchain-core<0.4.0,>=0.3.12->langchain) (24.1)\n",
      "Requirement already satisfied: typing-extensions>=4.7 in /Users/ivanlopatkin/opt/anaconda3/lib/python3.9/site-packages (from langchain-core<0.4.0,>=0.3.12->langchain) (4.10.0)\n",
      "Requirement already satisfied: httpx<1,>=0.23.0 in /Users/ivanlopatkin/opt/anaconda3/lib/python3.9/site-packages (from langsmith<0.2.0,>=0.1.17->langchain) (0.27.2)\n",
      "Requirement already satisfied: orjson<4.0.0,>=3.9.14 in /Users/ivanlopatkin/opt/anaconda3/lib/python3.9/site-packages (from langsmith<0.2.0,>=0.1.17->langchain) (3.10.10)\n",
      "Requirement already satisfied: requests-toolbelt<2.0.0,>=1.0.0 in /Users/ivanlopatkin/opt/anaconda3/lib/python3.9/site-packages (from langsmith<0.2.0,>=0.1.17->langchain) (1.0.0)\n",
      "Requirement already satisfied: annotated-types>=0.6.0 in /Users/ivanlopatkin/opt/anaconda3/lib/python3.9/site-packages (from pydantic<3.0.0,>=2.7.4->langchain) (0.6.0)\n",
      "Requirement already satisfied: pydantic-core==2.23.4 in /Users/ivanlopatkin/opt/anaconda3/lib/python3.9/site-packages (from pydantic<3.0.0,>=2.7.4->langchain) (2.23.4)\n",
      "Requirement already satisfied: charset-normalizer<4,>=2 in /Users/ivanlopatkin/opt/anaconda3/lib/python3.9/site-packages (from requests<3,>=2->langchain) (2.0.4)\n",
      "Requirement already satisfied: idna<4,>=2.5 in /Users/ivanlopatkin/opt/anaconda3/lib/python3.9/site-packages (from requests<3,>=2->langchain) (3.3)\n",
      "Requirement already satisfied: urllib3<3,>=1.21.1 in /Users/ivanlopatkin/opt/anaconda3/lib/python3.9/site-packages (from requests<3,>=2->langchain) (1.26.11)\n",
      "Requirement already satisfied: certifi>=2017.4.17 in /Users/ivanlopatkin/opt/anaconda3/lib/python3.9/site-packages (from requests<3,>=2->langchain) (2022.12.7)\n",
      "Requirement already satisfied: greenlet!=0.4.17 in /Users/ivanlopatkin/opt/anaconda3/lib/python3.9/site-packages (from SQLAlchemy<3,>=1.4->langchain) (1.1.1)\n",
      "Requirement already satisfied: anyio in /Users/ivanlopatkin/opt/anaconda3/lib/python3.9/site-packages (from httpx<1,>=0.23.0->langsmith<0.2.0,>=0.1.17->langchain) (3.5.0)\n",
      "Requirement already satisfied: httpcore==1.* in /Users/ivanlopatkin/opt/anaconda3/lib/python3.9/site-packages (from httpx<1,>=0.23.0->langsmith<0.2.0,>=0.1.17->langchain) (1.0.6)\n",
      "Requirement already satisfied: sniffio in /Users/ivanlopatkin/opt/anaconda3/lib/python3.9/site-packages (from httpx<1,>=0.23.0->langsmith<0.2.0,>=0.1.17->langchain) (1.2.0)\n",
      "Requirement already satisfied: h11<0.15,>=0.13 in /Users/ivanlopatkin/opt/anaconda3/lib/python3.9/site-packages (from httpcore==1.*->httpx<1,>=0.23.0->langsmith<0.2.0,>=0.1.17->langchain) (0.14.0)\n",
      "Requirement already satisfied: jsonpointer>=1.9 in /Users/ivanlopatkin/opt/anaconda3/lib/python3.9/site-packages (from jsonpatch<2.0,>=1.33->langchain-core<0.4.0,>=0.3.12->langchain) (2.4)\n",
      "Note: you may need to restart the kernel to use updated packages.\n",
      "Requirement already satisfied: langchain-community in /Users/ivanlopatkin/opt/anaconda3/lib/python3.9/site-packages (0.3.3)\n",
      "Requirement already satisfied: PyYAML>=5.3 in /Users/ivanlopatkin/opt/anaconda3/lib/python3.9/site-packages (from langchain-community) (6.0)\n",
      "Requirement already satisfied: SQLAlchemy<3,>=1.4 in /Users/ivanlopatkin/opt/anaconda3/lib/python3.9/site-packages (from langchain-community) (1.4.39)\n",
      "Requirement already satisfied: aiohttp<4.0.0,>=3.8.3 in /Users/ivanlopatkin/opt/anaconda3/lib/python3.9/site-packages (from langchain-community) (3.9.1)\n",
      "Requirement already satisfied: dataclasses-json<0.7,>=0.5.7 in /Users/ivanlopatkin/opt/anaconda3/lib/python3.9/site-packages (from langchain-community) (0.6.6)\n",
      "Requirement already satisfied: langchain<0.4.0,>=0.3.4 in /Users/ivanlopatkin/opt/anaconda3/lib/python3.9/site-packages (from langchain-community) (0.3.4)\n",
      "Requirement already satisfied: langchain-core<0.4.0,>=0.3.12 in /Users/ivanlopatkin/opt/anaconda3/lib/python3.9/site-packages (from langchain-community) (0.3.13)\n",
      "Requirement already satisfied: langsmith<0.2.0,>=0.1.125 in /Users/ivanlopatkin/opt/anaconda3/lib/python3.9/site-packages (from langchain-community) (0.1.137)\n",
      "Requirement already satisfied: numpy<2,>=1 in /Users/ivanlopatkin/opt/anaconda3/lib/python3.9/site-packages (from langchain-community) (1.23.5)\n",
      "Requirement already satisfied: pydantic-settings<3.0.0,>=2.4.0 in /Users/ivanlopatkin/opt/anaconda3/lib/python3.9/site-packages (from langchain-community) (2.6.0)\n",
      "Requirement already satisfied: requests<3,>=2 in /Users/ivanlopatkin/.local/lib/python3.9/site-packages (from langchain-community) (2.31.0)\n",
      "Requirement already satisfied: tenacity!=8.4.0,<10,>=8.1.0 in /Users/ivanlopatkin/opt/anaconda3/lib/python3.9/site-packages (from langchain-community) (9.0.0)\n",
      "Requirement already satisfied: attrs>=17.3.0 in /Users/ivanlopatkin/opt/anaconda3/lib/python3.9/site-packages (from aiohttp<4.0.0,>=3.8.3->langchain-community) (23.2.0)\n",
      "Requirement already satisfied: multidict<7.0,>=4.5 in /Users/ivanlopatkin/opt/anaconda3/lib/python3.9/site-packages (from aiohttp<4.0.0,>=3.8.3->langchain-community) (6.0.4)\n",
      "Requirement already satisfied: yarl<2.0,>=1.0 in /Users/ivanlopatkin/opt/anaconda3/lib/python3.9/site-packages (from aiohttp<4.0.0,>=3.8.3->langchain-community) (1.9.4)\n",
      "Requirement already satisfied: frozenlist>=1.1.1 in /Users/ivanlopatkin/opt/anaconda3/lib/python3.9/site-packages (from aiohttp<4.0.0,>=3.8.3->langchain-community) (1.4.0)\n",
      "Requirement already satisfied: aiosignal>=1.1.2 in /Users/ivanlopatkin/opt/anaconda3/lib/python3.9/site-packages (from aiohttp<4.0.0,>=3.8.3->langchain-community) (1.3.1)\n",
      "Requirement already satisfied: async-timeout<5.0,>=4.0 in /Users/ivanlopatkin/opt/anaconda3/lib/python3.9/site-packages (from aiohttp<4.0.0,>=3.8.3->langchain-community) (4.0.3)\n",
      "Requirement already satisfied: marshmallow<4.0.0,>=3.18.0 in /Users/ivanlopatkin/opt/anaconda3/lib/python3.9/site-packages (from dataclasses-json<0.7,>=0.5.7->langchain-community) (3.21.2)\n",
      "Requirement already satisfied: typing-inspect<1,>=0.4.0 in /Users/ivanlopatkin/opt/anaconda3/lib/python3.9/site-packages (from dataclasses-json<0.7,>=0.5.7->langchain-community) (0.9.0)\n",
      "Requirement already satisfied: langchain-text-splitters<0.4.0,>=0.3.0 in /Users/ivanlopatkin/opt/anaconda3/lib/python3.9/site-packages (from langchain<0.4.0,>=0.3.4->langchain-community) (0.3.0)\n",
      "Requirement already satisfied: pydantic<3.0.0,>=2.7.4 in /Users/ivanlopatkin/opt/anaconda3/lib/python3.9/site-packages (from langchain<0.4.0,>=0.3.4->langchain-community) (2.9.2)\n",
      "Requirement already satisfied: jsonpatch<2.0,>=1.33 in /Users/ivanlopatkin/opt/anaconda3/lib/python3.9/site-packages (from langchain-core<0.4.0,>=0.3.12->langchain-community) (1.33)\n",
      "Requirement already satisfied: packaging<25,>=23.2 in /Users/ivanlopatkin/opt/anaconda3/lib/python3.9/site-packages (from langchain-core<0.4.0,>=0.3.12->langchain-community) (24.1)\n",
      "Requirement already satisfied: typing-extensions>=4.7 in /Users/ivanlopatkin/opt/anaconda3/lib/python3.9/site-packages (from langchain-core<0.4.0,>=0.3.12->langchain-community) (4.10.0)\n",
      "Requirement already satisfied: httpx<1,>=0.23.0 in /Users/ivanlopatkin/opt/anaconda3/lib/python3.9/site-packages (from langsmith<0.2.0,>=0.1.125->langchain-community) (0.27.2)\n",
      "Requirement already satisfied: orjson<4.0.0,>=3.9.14 in /Users/ivanlopatkin/opt/anaconda3/lib/python3.9/site-packages (from langsmith<0.2.0,>=0.1.125->langchain-community) (3.10.10)\n",
      "Requirement already satisfied: requests-toolbelt<2.0.0,>=1.0.0 in /Users/ivanlopatkin/opt/anaconda3/lib/python3.9/site-packages (from langsmith<0.2.0,>=0.1.125->langchain-community) (1.0.0)\n",
      "Requirement already satisfied: python-dotenv>=0.21.0 in /Users/ivanlopatkin/opt/anaconda3/lib/python3.9/site-packages (from pydantic-settings<3.0.0,>=2.4.0->langchain-community) (1.0.1)\n",
      "Requirement already satisfied: charset-normalizer<4,>=2 in /Users/ivanlopatkin/opt/anaconda3/lib/python3.9/site-packages (from requests<3,>=2->langchain-community) (2.0.4)\n",
      "Requirement already satisfied: idna<4,>=2.5 in /Users/ivanlopatkin/opt/anaconda3/lib/python3.9/site-packages (from requests<3,>=2->langchain-community) (3.3)\n",
      "Requirement already satisfied: urllib3<3,>=1.21.1 in /Users/ivanlopatkin/opt/anaconda3/lib/python3.9/site-packages (from requests<3,>=2->langchain-community) (1.26.11)\n",
      "Requirement already satisfied: certifi>=2017.4.17 in /Users/ivanlopatkin/opt/anaconda3/lib/python3.9/site-packages (from requests<3,>=2->langchain-community) (2022.12.7)\n",
      "Requirement already satisfied: greenlet!=0.4.17 in /Users/ivanlopatkin/opt/anaconda3/lib/python3.9/site-packages (from SQLAlchemy<3,>=1.4->langchain-community) (1.1.1)\n",
      "Requirement already satisfied: anyio in /Users/ivanlopatkin/opt/anaconda3/lib/python3.9/site-packages (from httpx<1,>=0.23.0->langsmith<0.2.0,>=0.1.125->langchain-community) (3.5.0)\n",
      "Requirement already satisfied: httpcore==1.* in /Users/ivanlopatkin/opt/anaconda3/lib/python3.9/site-packages (from httpx<1,>=0.23.0->langsmith<0.2.0,>=0.1.125->langchain-community) (1.0.6)\n",
      "Requirement already satisfied: sniffio in /Users/ivanlopatkin/opt/anaconda3/lib/python3.9/site-packages (from httpx<1,>=0.23.0->langsmith<0.2.0,>=0.1.125->langchain-community) (1.2.0)\n",
      "Requirement already satisfied: h11<0.15,>=0.13 in /Users/ivanlopatkin/opt/anaconda3/lib/python3.9/site-packages (from httpcore==1.*->httpx<1,>=0.23.0->langsmith<0.2.0,>=0.1.125->langchain-community) (0.14.0)\n",
      "Requirement already satisfied: jsonpointer>=1.9 in /Users/ivanlopatkin/opt/anaconda3/lib/python3.9/site-packages (from jsonpatch<2.0,>=1.33->langchain-core<0.4.0,>=0.3.12->langchain-community) (2.4)\n",
      "Requirement already satisfied: annotated-types>=0.6.0 in /Users/ivanlopatkin/opt/anaconda3/lib/python3.9/site-packages (from pydantic<3.0.0,>=2.7.4->langchain<0.4.0,>=0.3.4->langchain-community) (0.6.0)\n",
      "Requirement already satisfied: pydantic-core==2.23.4 in /Users/ivanlopatkin/opt/anaconda3/lib/python3.9/site-packages (from pydantic<3.0.0,>=2.7.4->langchain<0.4.0,>=0.3.4->langchain-community) (2.23.4)\n",
      "Requirement already satisfied: mypy-extensions>=0.3.0 in /Users/ivanlopatkin/opt/anaconda3/lib/python3.9/site-packages (from typing-inspect<1,>=0.4.0->dataclasses-json<0.7,>=0.5.7->langchain-community) (0.4.3)\n",
      "Note: you may need to restart the kernel to use updated packages.\n",
      "Requirement already satisfied: python-docx in /Users/ivanlopatkin/opt/anaconda3/lib/python3.9/site-packages (1.1.2)\n",
      "Requirement already satisfied: lxml>=3.1.0 in /Users/ivanlopatkin/opt/anaconda3/lib/python3.9/site-packages (from python-docx) (4.9.1)\n",
      "Requirement already satisfied: typing-extensions>=4.9.0 in /Users/ivanlopatkin/opt/anaconda3/lib/python3.9/site-packages (from python-docx) (4.10.0)\n",
      "Note: you may need to restart the kernel to use updated packages.\n",
      "Requirement already satisfied: chromadb in /Users/ivanlopatkin/opt/anaconda3/lib/python3.9/site-packages (0.5.15)\n",
      "Requirement already satisfied: build>=1.0.3 in /Users/ivanlopatkin/opt/anaconda3/lib/python3.9/site-packages (from chromadb) (1.2.2.post1)\n",
      "Requirement already satisfied: pydantic>=1.9 in /Users/ivanlopatkin/opt/anaconda3/lib/python3.9/site-packages (from chromadb) (2.9.2)\n",
      "Requirement already satisfied: chroma-hnswlib==0.7.6 in /Users/ivanlopatkin/opt/anaconda3/lib/python3.9/site-packages (from chromadb) (0.7.6)\n",
      "Requirement already satisfied: fastapi>=0.95.2 in /Users/ivanlopatkin/opt/anaconda3/lib/python3.9/site-packages (from chromadb) (0.110.0)\n",
      "Requirement already satisfied: uvicorn[standard]>=0.18.3 in /Users/ivanlopatkin/opt/anaconda3/lib/python3.9/site-packages (from chromadb) (0.32.0)\n",
      "Requirement already satisfied: numpy>=1.22.5 in /Users/ivanlopatkin/opt/anaconda3/lib/python3.9/site-packages (from chromadb) (1.23.5)\n",
      "Requirement already satisfied: posthog>=2.4.0 in /Users/ivanlopatkin/opt/anaconda3/lib/python3.9/site-packages (from chromadb) (3.7.0)\n",
      "Requirement already satisfied: typing-extensions>=4.5.0 in /Users/ivanlopatkin/opt/anaconda3/lib/python3.9/site-packages (from chromadb) (4.10.0)\n",
      "Requirement already satisfied: onnxruntime>=1.14.1 in /Users/ivanlopatkin/opt/anaconda3/lib/python3.9/site-packages (from chromadb) (1.16.3)\n",
      "Requirement already satisfied: opentelemetry-api>=1.2.0 in /Users/ivanlopatkin/opt/anaconda3/lib/python3.9/site-packages (from chromadb) (1.27.0)\n",
      "Requirement already satisfied: opentelemetry-exporter-otlp-proto-grpc>=1.2.0 in /Users/ivanlopatkin/opt/anaconda3/lib/python3.9/site-packages (from chromadb) (1.27.0)\n",
      "Requirement already satisfied: opentelemetry-instrumentation-fastapi>=0.41b0 in /Users/ivanlopatkin/opt/anaconda3/lib/python3.9/site-packages (from chromadb) (0.48b0)\n",
      "Requirement already satisfied: opentelemetry-sdk>=1.2.0 in /Users/ivanlopatkin/opt/anaconda3/lib/python3.9/site-packages (from chromadb) (1.27.0)\n",
      "Requirement already satisfied: tokenizers>=0.13.2 in /Users/ivanlopatkin/opt/anaconda3/lib/python3.9/site-packages (from chromadb) (0.20.1)\n",
      "Requirement already satisfied: pypika>=0.48.9 in /Users/ivanlopatkin/opt/anaconda3/lib/python3.9/site-packages (from chromadb) (0.48.9)\n",
      "Requirement already satisfied: tqdm>=4.65.0 in /Users/ivanlopatkin/opt/anaconda3/lib/python3.9/site-packages (from chromadb) (4.66.5)\n",
      "Requirement already satisfied: overrides>=7.3.1 in /Users/ivanlopatkin/opt/anaconda3/lib/python3.9/site-packages (from chromadb) (7.7.0)\n",
      "Requirement already satisfied: importlib-resources in /Users/ivanlopatkin/opt/anaconda3/lib/python3.9/site-packages (from chromadb) (6.3.1)\n",
      "Requirement already satisfied: grpcio>=1.58.0 in /Users/ivanlopatkin/opt/anaconda3/lib/python3.9/site-packages (from chromadb) (1.67.0)\n",
      "Requirement already satisfied: bcrypt>=4.0.1 in /Users/ivanlopatkin/opt/anaconda3/lib/python3.9/site-packages (from chromadb) (4.2.0)\n",
      "Requirement already satisfied: typer>=0.9.0 in /Users/ivanlopatkin/opt/anaconda3/lib/python3.9/site-packages (from chromadb) (0.12.5)\n",
      "Requirement already satisfied: kubernetes>=28.1.0 in /Users/ivanlopatkin/opt/anaconda3/lib/python3.9/site-packages (from chromadb) (31.0.0)\n",
      "Requirement already satisfied: tenacity>=8.2.3 in /Users/ivanlopatkin/opt/anaconda3/lib/python3.9/site-packages (from chromadb) (9.0.0)\n",
      "Requirement already satisfied: PyYAML>=6.0.0 in /Users/ivanlopatkin/opt/anaconda3/lib/python3.9/site-packages (from chromadb) (6.0)\n",
      "Requirement already satisfied: mmh3>=4.0.1 in /Users/ivanlopatkin/opt/anaconda3/lib/python3.9/site-packages (from chromadb) (5.0.1)\n",
      "Requirement already satisfied: orjson>=3.9.12 in /Users/ivanlopatkin/opt/anaconda3/lib/python3.9/site-packages (from chromadb) (3.10.10)\n",
      "Requirement already satisfied: httpx>=0.27.0 in /Users/ivanlopatkin/opt/anaconda3/lib/python3.9/site-packages (from chromadb) (0.27.2)\n",
      "Requirement already satisfied: rich>=10.11.0 in /Users/ivanlopatkin/opt/anaconda3/lib/python3.9/site-packages (from chromadb) (13.7.1)\n",
      "Requirement already satisfied: packaging>=19.1 in /Users/ivanlopatkin/opt/anaconda3/lib/python3.9/site-packages (from build>=1.0.3->chromadb) (24.1)\n",
      "Requirement already satisfied: pyproject_hooks in /Users/ivanlopatkin/opt/anaconda3/lib/python3.9/site-packages (from build>=1.0.3->chromadb) (1.2.0)\n",
      "Requirement already satisfied: importlib-metadata>=4.6 in /Users/ivanlopatkin/.local/lib/python3.9/site-packages (from build>=1.0.3->chromadb) (6.1.0)\n",
      "Requirement already satisfied: tomli>=1.1.0 in /Users/ivanlopatkin/opt/anaconda3/lib/python3.9/site-packages (from build>=1.0.3->chromadb) (2.0.1)\n",
      "Requirement already satisfied: starlette<0.37.0,>=0.36.3 in /Users/ivanlopatkin/opt/anaconda3/lib/python3.9/site-packages (from fastapi>=0.95.2->chromadb) (0.36.3)\n",
      "Requirement already satisfied: anyio in /Users/ivanlopatkin/opt/anaconda3/lib/python3.9/site-packages (from httpx>=0.27.0->chromadb) (3.5.0)\n",
      "Requirement already satisfied: certifi in /Users/ivanlopatkin/opt/anaconda3/lib/python3.9/site-packages (from httpx>=0.27.0->chromadb) (2022.12.7)\n",
      "Requirement already satisfied: httpcore==1.* in /Users/ivanlopatkin/opt/anaconda3/lib/python3.9/site-packages (from httpx>=0.27.0->chromadb) (1.0.6)\n",
      "Requirement already satisfied: idna in /Users/ivanlopatkin/opt/anaconda3/lib/python3.9/site-packages (from httpx>=0.27.0->chromadb) (3.3)\n",
      "Requirement already satisfied: sniffio in /Users/ivanlopatkin/opt/anaconda3/lib/python3.9/site-packages (from httpx>=0.27.0->chromadb) (1.2.0)\n",
      "Requirement already satisfied: h11<0.15,>=0.13 in /Users/ivanlopatkin/opt/anaconda3/lib/python3.9/site-packages (from httpcore==1.*->httpx>=0.27.0->chromadb) (0.14.0)\n",
      "Requirement already satisfied: six>=1.9.0 in /Users/ivanlopatkin/opt/anaconda3/lib/python3.9/site-packages (from kubernetes>=28.1.0->chromadb) (1.16.0)\n",
      "Requirement already satisfied: python-dateutil>=2.5.3 in /Users/ivanlopatkin/opt/anaconda3/lib/python3.9/site-packages (from kubernetes>=28.1.0->chromadb) (2.8.2)\n",
      "Requirement already satisfied: google-auth>=1.0.1 in /Users/ivanlopatkin/opt/anaconda3/lib/python3.9/site-packages (from kubernetes>=28.1.0->chromadb) (2.18.1)\n",
      "Requirement already satisfied: websocket-client!=0.40.0,!=0.41.*,!=0.42.*,>=0.32.0 in /Users/ivanlopatkin/opt/anaconda3/lib/python3.9/site-packages (from kubernetes>=28.1.0->chromadb) (1.8.0)\n",
      "Requirement already satisfied: requests in /Users/ivanlopatkin/.local/lib/python3.9/site-packages (from kubernetes>=28.1.0->chromadb) (2.31.0)\n",
      "Requirement already satisfied: requests-oauthlib in /Users/ivanlopatkin/opt/anaconda3/lib/python3.9/site-packages (from kubernetes>=28.1.0->chromadb) (1.3.1)\n",
      "Requirement already satisfied: oauthlib>=3.2.2 in /Users/ivanlopatkin/opt/anaconda3/lib/python3.9/site-packages (from kubernetes>=28.1.0->chromadb) (3.2.2)\n",
      "Requirement already satisfied: urllib3>=1.24.2 in /Users/ivanlopatkin/opt/anaconda3/lib/python3.9/site-packages (from kubernetes>=28.1.0->chromadb) (1.26.11)\n",
      "Requirement already satisfied: durationpy>=0.7 in /Users/ivanlopatkin/opt/anaconda3/lib/python3.9/site-packages (from kubernetes>=28.1.0->chromadb) (0.9)\n",
      "Requirement already satisfied: coloredlogs in /Users/ivanlopatkin/opt/anaconda3/lib/python3.9/site-packages (from onnxruntime>=1.14.1->chromadb) (15.0.1)\n",
      "Requirement already satisfied: flatbuffers in /Users/ivanlopatkin/opt/anaconda3/lib/python3.9/site-packages (from onnxruntime>=1.14.1->chromadb) (23.5.9)\n",
      "Requirement already satisfied: protobuf in /Users/ivanlopatkin/opt/anaconda3/lib/python3.9/site-packages (from onnxruntime>=1.14.1->chromadb) (4.25.2)\n",
      "Requirement already satisfied: sympy in /Users/ivanlopatkin/opt/anaconda3/lib/python3.9/site-packages (from onnxruntime>=1.14.1->chromadb) (1.10.1)\n",
      "Requirement already satisfied: deprecated>=1.2.6 in /Users/ivanlopatkin/opt/anaconda3/lib/python3.9/site-packages (from opentelemetry-api>=1.2.0->chromadb) (1.2.14)\n",
      "Requirement already satisfied: googleapis-common-protos~=1.52 in /Users/ivanlopatkin/opt/anaconda3/lib/python3.9/site-packages (from opentelemetry-exporter-otlp-proto-grpc>=1.2.0->chromadb) (1.65.0)\n",
      "Requirement already satisfied: opentelemetry-exporter-otlp-proto-common==1.27.0 in /Users/ivanlopatkin/opt/anaconda3/lib/python3.9/site-packages (from opentelemetry-exporter-otlp-proto-grpc>=1.2.0->chromadb) (1.27.0)\n",
      "Requirement already satisfied: opentelemetry-proto==1.27.0 in /Users/ivanlopatkin/opt/anaconda3/lib/python3.9/site-packages (from opentelemetry-exporter-otlp-proto-grpc>=1.2.0->chromadb) (1.27.0)\n",
      "Requirement already satisfied: opentelemetry-instrumentation-asgi==0.48b0 in /Users/ivanlopatkin/opt/anaconda3/lib/python3.9/site-packages (from opentelemetry-instrumentation-fastapi>=0.41b0->chromadb) (0.48b0)\n",
      "Requirement already satisfied: opentelemetry-instrumentation==0.48b0 in /Users/ivanlopatkin/opt/anaconda3/lib/python3.9/site-packages (from opentelemetry-instrumentation-fastapi>=0.41b0->chromadb) (0.48b0)\n",
      "Requirement already satisfied: opentelemetry-semantic-conventions==0.48b0 in /Users/ivanlopatkin/opt/anaconda3/lib/python3.9/site-packages (from opentelemetry-instrumentation-fastapi>=0.41b0->chromadb) (0.48b0)\n",
      "Requirement already satisfied: opentelemetry-util-http==0.48b0 in /Users/ivanlopatkin/opt/anaconda3/lib/python3.9/site-packages (from opentelemetry-instrumentation-fastapi>=0.41b0->chromadb) (0.48b0)\n",
      "Requirement already satisfied: setuptools>=16.0 in /Users/ivanlopatkin/opt/anaconda3/lib/python3.9/site-packages (from opentelemetry-instrumentation==0.48b0->opentelemetry-instrumentation-fastapi>=0.41b0->chromadb) (67.6.1)\n",
      "Requirement already satisfied: wrapt<2.0.0,>=1.0.0 in /Users/ivanlopatkin/opt/anaconda3/lib/python3.9/site-packages (from opentelemetry-instrumentation==0.48b0->opentelemetry-instrumentation-fastapi>=0.41b0->chromadb) (1.14.1)\n",
      "Requirement already satisfied: asgiref~=3.0 in /Users/ivanlopatkin/opt/anaconda3/lib/python3.9/site-packages (from opentelemetry-instrumentation-asgi==0.48b0->opentelemetry-instrumentation-fastapi>=0.41b0->chromadb) (3.5.2)\n",
      "Requirement already satisfied: monotonic>=1.5 in /Users/ivanlopatkin/opt/anaconda3/lib/python3.9/site-packages (from posthog>=2.4.0->chromadb) (1.6)\n",
      "Requirement already satisfied: backoff>=1.10.0 in /Users/ivanlopatkin/opt/anaconda3/lib/python3.9/site-packages (from posthog>=2.4.0->chromadb) (2.2.1)\n",
      "Requirement already satisfied: annotated-types>=0.6.0 in /Users/ivanlopatkin/opt/anaconda3/lib/python3.9/site-packages (from pydantic>=1.9->chromadb) (0.6.0)\n",
      "Requirement already satisfied: pydantic-core==2.23.4 in /Users/ivanlopatkin/opt/anaconda3/lib/python3.9/site-packages (from pydantic>=1.9->chromadb) (2.23.4)\n",
      "Requirement already satisfied: markdown-it-py>=2.2.0 in /Users/ivanlopatkin/opt/anaconda3/lib/python3.9/site-packages (from rich>=10.11.0->chromadb) (3.0.0)\n",
      "Requirement already satisfied: pygments<3.0.0,>=2.13.0 in /Users/ivanlopatkin/opt/anaconda3/lib/python3.9/site-packages (from rich>=10.11.0->chromadb) (2.17.2)\n",
      "Requirement already satisfied: huggingface-hub<1.0,>=0.16.4 in /Users/ivanlopatkin/opt/anaconda3/lib/python3.9/site-packages (from tokenizers>=0.13.2->chromadb) (0.24.6)\n",
      "Requirement already satisfied: click>=8.0.0 in /Users/ivanlopatkin/opt/anaconda3/lib/python3.9/site-packages (from typer>=0.9.0->chromadb) (8.0.4)\n",
      "Requirement already satisfied: shellingham>=1.3.0 in /Users/ivanlopatkin/opt/anaconda3/lib/python3.9/site-packages (from typer>=0.9.0->chromadb) (1.5.4)\n",
      "Requirement already satisfied: httptools>=0.5.0 in /Users/ivanlopatkin/opt/anaconda3/lib/python3.9/site-packages (from uvicorn[standard]>=0.18.3->chromadb) (0.6.4)\n",
      "Requirement already satisfied: python-dotenv>=0.13 in /Users/ivanlopatkin/opt/anaconda3/lib/python3.9/site-packages (from uvicorn[standard]>=0.18.3->chromadb) (1.0.1)\n",
      "Requirement already satisfied: uvloop!=0.15.0,!=0.15.1,>=0.14.0 in /Users/ivanlopatkin/opt/anaconda3/lib/python3.9/site-packages (from uvicorn[standard]>=0.18.3->chromadb) (0.21.0)\n",
      "Requirement already satisfied: watchfiles>=0.13 in /Users/ivanlopatkin/opt/anaconda3/lib/python3.9/site-packages (from uvicorn[standard]>=0.18.3->chromadb) (0.24.0)\n",
      "Requirement already satisfied: websockets>=10.4 in /Users/ivanlopatkin/opt/anaconda3/lib/python3.9/site-packages (from uvicorn[standard]>=0.18.3->chromadb) (10.4)\n",
      "Requirement already satisfied: zipp>=3.1.0 in /Users/ivanlopatkin/opt/anaconda3/lib/python3.9/site-packages (from importlib-resources->chromadb) (3.15.0)\n",
      "Requirement already satisfied: cachetools<6.0,>=2.0.0 in /Users/ivanlopatkin/opt/anaconda3/lib/python3.9/site-packages (from google-auth>=1.0.1->kubernetes>=28.1.0->chromadb) (5.3.0)\n",
      "Requirement already satisfied: pyasn1-modules>=0.2.1 in /Users/ivanlopatkin/opt/anaconda3/lib/python3.9/site-packages (from google-auth>=1.0.1->kubernetes>=28.1.0->chromadb) (0.2.8)\n",
      "Requirement already satisfied: rsa<5,>=3.1.4 in /Users/ivanlopatkin/opt/anaconda3/lib/python3.9/site-packages (from google-auth>=1.0.1->kubernetes>=28.1.0->chromadb) (4.9)\n",
      "Requirement already satisfied: filelock in /Users/ivanlopatkin/opt/anaconda3/lib/python3.9/site-packages (from huggingface-hub<1.0,>=0.16.4->tokenizers>=0.13.2->chromadb) (3.16.1)\n",
      "Requirement already satisfied: fsspec>=2023.5.0 in /Users/ivanlopatkin/opt/anaconda3/lib/python3.9/site-packages (from huggingface-hub<1.0,>=0.16.4->tokenizers>=0.13.2->chromadb) (2023.10.0)\n",
      "Requirement already satisfied: mdurl~=0.1 in /Users/ivanlopatkin/opt/anaconda3/lib/python3.9/site-packages (from markdown-it-py>=2.2.0->rich>=10.11.0->chromadb) (0.1.2)\n",
      "Requirement already satisfied: charset-normalizer<4,>=2 in /Users/ivanlopatkin/opt/anaconda3/lib/python3.9/site-packages (from requests->kubernetes>=28.1.0->chromadb) (2.0.4)\n",
      "Requirement already satisfied: humanfriendly>=9.1 in /Users/ivanlopatkin/opt/anaconda3/lib/python3.9/site-packages (from coloredlogs->onnxruntime>=1.14.1->chromadb) (10.0)\n",
      "Requirement already satisfied: mpmath>=0.19 in /Users/ivanlopatkin/opt/anaconda3/lib/python3.9/site-packages (from sympy->onnxruntime>=1.14.1->chromadb) (1.2.1)\n",
      "Requirement already satisfied: pyasn1<0.5.0,>=0.4.6 in /Users/ivanlopatkin/opt/anaconda3/lib/python3.9/site-packages (from pyasn1-modules>=0.2.1->google-auth>=1.0.1->kubernetes>=28.1.0->chromadb) (0.4.8)\n",
      "Note: you may need to restart the kernel to use updated packages.\n",
      "Requirement already satisfied: sentence-transformers in /Users/ivanlopatkin/opt/anaconda3/lib/python3.9/site-packages (3.2.1)\n",
      "Requirement already satisfied: transformers<5.0.0,>=4.41.0 in /Users/ivanlopatkin/opt/anaconda3/lib/python3.9/site-packages (from sentence-transformers) (4.46.0)\n",
      "Requirement already satisfied: tqdm in /Users/ivanlopatkin/opt/anaconda3/lib/python3.9/site-packages (from sentence-transformers) (4.66.5)\n",
      "Requirement already satisfied: torch>=1.11.0 in /Users/ivanlopatkin/opt/anaconda3/lib/python3.9/site-packages (from sentence-transformers) (2.0.1)\n",
      "Requirement already satisfied: scikit-learn in /Users/ivanlopatkin/opt/anaconda3/lib/python3.9/site-packages (from sentence-transformers) (1.0.2)\n",
      "Requirement already satisfied: scipy in /Users/ivanlopatkin/opt/anaconda3/lib/python3.9/site-packages (from sentence-transformers) (1.10.1)\n",
      "Requirement already satisfied: huggingface-hub>=0.20.0 in /Users/ivanlopatkin/opt/anaconda3/lib/python3.9/site-packages (from sentence-transformers) (0.24.6)\n",
      "Requirement already satisfied: Pillow in /Users/ivanlopatkin/opt/anaconda3/lib/python3.9/site-packages (from sentence-transformers) (9.2.0)\n",
      "Requirement already satisfied: filelock in /Users/ivanlopatkin/opt/anaconda3/lib/python3.9/site-packages (from huggingface-hub>=0.20.0->sentence-transformers) (3.16.1)\n",
      "Requirement already satisfied: fsspec>=2023.5.0 in /Users/ivanlopatkin/opt/anaconda3/lib/python3.9/site-packages (from huggingface-hub>=0.20.0->sentence-transformers) (2023.10.0)\n",
      "Requirement already satisfied: packaging>=20.9 in /Users/ivanlopatkin/opt/anaconda3/lib/python3.9/site-packages (from huggingface-hub>=0.20.0->sentence-transformers) (24.1)\n",
      "Requirement already satisfied: pyyaml>=5.1 in /Users/ivanlopatkin/opt/anaconda3/lib/python3.9/site-packages (from huggingface-hub>=0.20.0->sentence-transformers) (6.0)\n",
      "Requirement already satisfied: requests in /Users/ivanlopatkin/.local/lib/python3.9/site-packages (from huggingface-hub>=0.20.0->sentence-transformers) (2.31.0)\n",
      "Requirement already satisfied: typing-extensions>=3.7.4.3 in /Users/ivanlopatkin/opt/anaconda3/lib/python3.9/site-packages (from huggingface-hub>=0.20.0->sentence-transformers) (4.10.0)\n",
      "Requirement already satisfied: sympy in /Users/ivanlopatkin/opt/anaconda3/lib/python3.9/site-packages (from torch>=1.11.0->sentence-transformers) (1.10.1)\n",
      "Requirement already satisfied: networkx in /Users/ivanlopatkin/opt/anaconda3/lib/python3.9/site-packages (from torch>=1.11.0->sentence-transformers) (2.8.4)\n",
      "Requirement already satisfied: jinja2 in /Users/ivanlopatkin/opt/anaconda3/lib/python3.9/site-packages (from torch>=1.11.0->sentence-transformers) (3.1.3)\n",
      "Requirement already satisfied: numpy>=1.17 in /Users/ivanlopatkin/opt/anaconda3/lib/python3.9/site-packages (from transformers<5.0.0,>=4.41.0->sentence-transformers) (1.23.5)\n",
      "Requirement already satisfied: regex!=2019.12.17 in /Users/ivanlopatkin/opt/anaconda3/lib/python3.9/site-packages (from transformers<5.0.0,>=4.41.0->sentence-transformers) (2022.7.9)\n",
      "Requirement already satisfied: safetensors>=0.4.1 in /Users/ivanlopatkin/opt/anaconda3/lib/python3.9/site-packages (from transformers<5.0.0,>=4.41.0->sentence-transformers) (0.4.1)\n",
      "Requirement already satisfied: tokenizers<0.21,>=0.20 in /Users/ivanlopatkin/opt/anaconda3/lib/python3.9/site-packages (from transformers<5.0.0,>=4.41.0->sentence-transformers) (0.20.1)\n",
      "Requirement already satisfied: joblib>=0.11 in /Users/ivanlopatkin/opt/anaconda3/lib/python3.9/site-packages (from scikit-learn->sentence-transformers) (1.2.0)\n",
      "Requirement already satisfied: threadpoolctl>=2.0.0 in /Users/ivanlopatkin/opt/anaconda3/lib/python3.9/site-packages (from scikit-learn->sentence-transformers) (2.2.0)\n",
      "Requirement already satisfied: MarkupSafe>=2.0 in /Users/ivanlopatkin/opt/anaconda3/lib/python3.9/site-packages (from jinja2->torch>=1.11.0->sentence-transformers) (2.0.1)\n",
      "Requirement already satisfied: charset-normalizer<4,>=2 in /Users/ivanlopatkin/opt/anaconda3/lib/python3.9/site-packages (from requests->huggingface-hub>=0.20.0->sentence-transformers) (2.0.4)\n",
      "Requirement already satisfied: idna<4,>=2.5 in /Users/ivanlopatkin/opt/anaconda3/lib/python3.9/site-packages (from requests->huggingface-hub>=0.20.0->sentence-transformers) (3.3)\n",
      "Requirement already satisfied: urllib3<3,>=1.21.1 in /Users/ivanlopatkin/opt/anaconda3/lib/python3.9/site-packages (from requests->huggingface-hub>=0.20.0->sentence-transformers) (1.26.11)\n",
      "Requirement already satisfied: certifi>=2017.4.17 in /Users/ivanlopatkin/opt/anaconda3/lib/python3.9/site-packages (from requests->huggingface-hub>=0.20.0->sentence-transformers) (2022.12.7)\n",
      "Requirement already satisfied: mpmath>=0.19 in /Users/ivanlopatkin/opt/anaconda3/lib/python3.9/site-packages (from sympy->torch>=1.11.0->sentence-transformers) (1.2.1)\n",
      "Note: you may need to restart the kernel to use updated packages.\n",
      "Requirement already satisfied: camelot-py in /Users/ivanlopatkin/opt/anaconda3/lib/python3.9/site-packages (0.11.0)\n",
      "Requirement already satisfied: chardet>=3.0.4 in /Users/ivanlopatkin/opt/anaconda3/lib/python3.9/site-packages (from camelot-py) (4.0.0)\n",
      "Requirement already satisfied: click>=6.7 in /Users/ivanlopatkin/opt/anaconda3/lib/python3.9/site-packages (from camelot-py) (8.0.4)\n",
      "Requirement already satisfied: numpy>=1.13.3 in /Users/ivanlopatkin/opt/anaconda3/lib/python3.9/site-packages (from camelot-py) (1.23.5)\n",
      "Requirement already satisfied: openpyxl>=2.5.8 in /Users/ivanlopatkin/opt/anaconda3/lib/python3.9/site-packages (from camelot-py) (3.1.2)\n",
      "Requirement already satisfied: pandas>=0.23.4 in /Users/ivanlopatkin/opt/anaconda3/lib/python3.9/site-packages (from camelot-py) (1.4.4)\n",
      "Requirement already satisfied: pdfminer.six>=20200726 in /Users/ivanlopatkin/opt/anaconda3/lib/python3.9/site-packages (from camelot-py) (20240706)\n",
      "Requirement already satisfied: pypdf>=3.0.0 in /Users/ivanlopatkin/opt/anaconda3/lib/python3.9/site-packages (from camelot-py) (5.0.1)\n",
      "Requirement already satisfied: tabulate>=0.8.9 in /Users/ivanlopatkin/opt/anaconda3/lib/python3.9/site-packages (from camelot-py) (0.8.10)\n",
      "Requirement already satisfied: et-xmlfile in /Users/ivanlopatkin/opt/anaconda3/lib/python3.9/site-packages (from openpyxl>=2.5.8->camelot-py) (1.1.0)\n",
      "Requirement already satisfied: python-dateutil>=2.8.1 in /Users/ivanlopatkin/opt/anaconda3/lib/python3.9/site-packages (from pandas>=0.23.4->camelot-py) (2.8.2)\n",
      "Requirement already satisfied: pytz>=2020.1 in /Users/ivanlopatkin/opt/anaconda3/lib/python3.9/site-packages (from pandas>=0.23.4->camelot-py) (2022.1)\n",
      "Requirement already satisfied: charset-normalizer>=2.0.0 in /Users/ivanlopatkin/opt/anaconda3/lib/python3.9/site-packages (from pdfminer.six>=20200726->camelot-py) (2.0.4)\n",
      "Requirement already satisfied: cryptography>=36.0.0 in /Users/ivanlopatkin/opt/anaconda3/lib/python3.9/site-packages (from pdfminer.six>=20200726->camelot-py) (37.0.1)\n",
      "Requirement already satisfied: typing_extensions>=4.0 in /Users/ivanlopatkin/opt/anaconda3/lib/python3.9/site-packages (from pypdf>=3.0.0->camelot-py) (4.10.0)\n",
      "Requirement already satisfied: cffi>=1.12 in /Users/ivanlopatkin/opt/anaconda3/lib/python3.9/site-packages (from cryptography>=36.0.0->pdfminer.six>=20200726->camelot-py) (1.15.1)\n",
      "Requirement already satisfied: six>=1.5 in /Users/ivanlopatkin/opt/anaconda3/lib/python3.9/site-packages (from python-dateutil>=2.8.1->pandas>=0.23.4->camelot-py) (1.16.0)\n",
      "Requirement already satisfied: pycparser in /Users/ivanlopatkin/opt/anaconda3/lib/python3.9/site-packages (from cffi>=1.12->cryptography>=36.0.0->pdfminer.six>=20200726->camelot-py) (2.21)\n",
      "Note: you may need to restart the kernel to use updated packages.\n",
      "Requirement already satisfied: tabula-py in /Users/ivanlopatkin/opt/anaconda3/lib/python3.9/site-packages (2.8.1)\n",
      "Requirement already satisfied: pandas>=0.25.3 in /Users/ivanlopatkin/opt/anaconda3/lib/python3.9/site-packages (from tabula-py) (1.4.4)\n",
      "Requirement already satisfied: numpy in /Users/ivanlopatkin/opt/anaconda3/lib/python3.9/site-packages (from tabula-py) (1.23.5)\n",
      "Requirement already satisfied: distro in /Users/ivanlopatkin/opt/anaconda3/lib/python3.9/site-packages (from tabula-py) (1.8.0)\n",
      "Requirement already satisfied: jpype1 in /Users/ivanlopatkin/opt/anaconda3/lib/python3.9/site-packages (from tabula-py) (1.4.1)\n",
      "Requirement already satisfied: python-dateutil>=2.8.1 in /Users/ivanlopatkin/opt/anaconda3/lib/python3.9/site-packages (from pandas>=0.25.3->tabula-py) (2.8.2)\n",
      "Requirement already satisfied: pytz>=2020.1 in /Users/ivanlopatkin/opt/anaconda3/lib/python3.9/site-packages (from pandas>=0.25.3->tabula-py) (2022.1)\n",
      "Requirement already satisfied: packaging in /Users/ivanlopatkin/opt/anaconda3/lib/python3.9/site-packages (from jpype1->tabula-py) (24.1)\n",
      "Requirement already satisfied: six>=1.5 in /Users/ivanlopatkin/opt/anaconda3/lib/python3.9/site-packages (from python-dateutil>=2.8.1->pandas>=0.25.3->tabula-py) (1.16.0)\n",
      "Note: you may need to restart the kernel to use updated packages.\n",
      "Requirement already satisfied: python-docx in /Users/ivanlopatkin/opt/anaconda3/lib/python3.9/site-packages (1.1.2)\n",
      "Requirement already satisfied: lxml>=3.1.0 in /Users/ivanlopatkin/opt/anaconda3/lib/python3.9/site-packages (from python-docx) (4.9.1)\n",
      "Requirement already satisfied: typing-extensions>=4.9.0 in /Users/ivanlopatkin/opt/anaconda3/lib/python3.9/site-packages (from python-docx) (4.10.0)\n",
      "Note: you may need to restart the kernel to use updated packages.\n",
      "Requirement already satisfied: ghostscript in /Users/ivanlopatkin/opt/anaconda3/lib/python3.9/site-packages (0.7)\n",
      "Requirement already satisfied: setuptools>=38.6.0 in /Users/ivanlopatkin/opt/anaconda3/lib/python3.9/site-packages (from ghostscript) (67.6.1)\n",
      "Note: you may need to restart the kernel to use updated packages.\n",
      "Collecting camelot\n",
      "  Using cached Camelot-12.06.29.tar.gz (3.5 MB)\n",
      "  Preparing metadata (setup.py) ... \u001b[?25ldone\n",
      "\u001b[?25hCollecting SQLAlchemy<0.8.0,>=0.7.7 (from camelot)\n",
      "  Using cached SQLAlchemy-0.7.10.tar.gz (3.5 MB)\n",
      "  Preparing metadata (setup.py) ... \u001b[?25ldone\n",
      "\u001b[?25hCollecting Elixir>=0.7.1 (from camelot)\n",
      "  Using cached Elixir-0.7.1.tar.gz (47 kB)\n",
      "  Preparing metadata (setup.py) ... \u001b[?25ldone\n",
      "\u001b[?25hCollecting sqlalchemy-migrate>=0.7.1 (from camelot)\n",
      "  Obtaining dependency information for sqlalchemy-migrate>=0.7.1 from https://files.pythonhosted.org/packages/1a/ba/0725bf5f54d0c5ed7c1da025215f288fb68ef4cc4966abfb76c1926ee0af/sqlalchemy_migrate-0.13.0-py2.py3-none-any.whl.metadata\n",
      "  Using cached sqlalchemy_migrate-0.13.0-py2.py3-none-any.whl.metadata (2.7 kB)\n",
      "Requirement already satisfied: Jinja2>=2.5.5 in /Users/ivanlopatkin/opt/anaconda3/lib/python3.9/site-packages (from camelot) (3.1.3)\n",
      "Requirement already satisfied: chardet>=1.0.1 in /Users/ivanlopatkin/opt/anaconda3/lib/python3.9/site-packages (from camelot) (4.0.0)\n",
      "Collecting xlwt==0.7.2 (from camelot)\n",
      "  Using cached xlwt-0.7.2.zip (131 kB)\n",
      "  Preparing metadata (setup.py) ... \u001b[?25ldone\n",
      "\u001b[?25hCollecting xlrd==0.7.1 (from camelot)\n",
      "  Using cached xlrd-0.7.1.zip (125 kB)\n",
      "  Preparing metadata (setup.py) ... \u001b[?25ldone\n",
      "\u001b[?25hRequirement already satisfied: MarkupSafe>=2.0 in /Users/ivanlopatkin/opt/anaconda3/lib/python3.9/site-packages (from Jinja2>=2.5.5->camelot) (2.0.1)\n",
      "Collecting pbr>=1.8 (from sqlalchemy-migrate>=0.7.1->camelot)\n",
      "  Obtaining dependency information for pbr>=1.8 from https://files.pythonhosted.org/packages/1d/44/6a65ecd630393d47ad3e7d5354768cb7f9a10b3a0eb2cd8c6f52b28211ee/pbr-6.1.0-py2.py3-none-any.whl.metadata\n",
      "  Using cached pbr-6.1.0-py2.py3-none-any.whl.metadata (3.4 kB)\n",
      "INFO: pip is looking at multiple versions of sqlalchemy-migrate to determine which version is compatible with other requirements. This could take a while.\n",
      "Collecting sqlalchemy-migrate>=0.7.1 (from camelot)\n",
      "  Obtaining dependency information for sqlalchemy-migrate>=0.7.1 from https://files.pythonhosted.org/packages/b5/99/92c4c90d5a22aac19554effd04789b78b5549c62fefbda1f42cc549b31b1/sqlalchemy_migrate-0.12.0-py2.py3-none-any.whl.metadata\n",
      "  Using cached sqlalchemy_migrate-0.12.0-py2.py3-none-any.whl.metadata (2.6 kB)\n",
      "  Using cached sqlalchemy-migrate-0.11.0.tar.gz (128 kB)\n",
      "  Preparing metadata (setup.py) ... \u001b[?25lerror\n",
      "  \u001b[1;31merror\u001b[0m: \u001b[1msubprocess-exited-with-error\u001b[0m\n",
      "  \n",
      "  \u001b[31m×\u001b[0m \u001b[32mpython setup.py egg_info\u001b[0m did not run successfully.\n",
      "  \u001b[31m│\u001b[0m exit code: \u001b[1;36m1\u001b[0m\n",
      "  \u001b[31m╰─>\u001b[0m \u001b[31m[84 lines of output]\u001b[0m\n",
      "  \u001b[31m   \u001b[0m /Users/ivanlopatkin/opt/anaconda3/lib/python3.9/site-packages/setuptools/dist.py:755: SetuptoolsDeprecationWarning: Invalid dash-separated options\n",
      "  \u001b[31m   \u001b[0m !!\n",
      "  \u001b[31m   \u001b[0m \n",
      "  \u001b[31m   \u001b[0m         ********************************************************************************\n",
      "  \u001b[31m   \u001b[0m         Usage of dash-separated 'description-file' will not be supported in future\n",
      "  \u001b[31m   \u001b[0m         versions. Please use the underscore name 'description_file' instead.\n",
      "  \u001b[31m   \u001b[0m \n",
      "  \u001b[31m   \u001b[0m         This deprecation is overdue, please update your project and remove deprecated\n",
      "  \u001b[31m   \u001b[0m         calls to avoid build errors in the future.\n",
      "  \u001b[31m   \u001b[0m \n",
      "  \u001b[31m   \u001b[0m         See https://setuptools.pypa.io/en/latest/userguide/declarative_config.html for details.\n",
      "  \u001b[31m   \u001b[0m         ********************************************************************************\n",
      "  \u001b[31m   \u001b[0m \n",
      "  \u001b[31m   \u001b[0m !!\n",
      "  \u001b[31m   \u001b[0m   opt = self.warn_dash_deprecation(opt, section)\n",
      "  \u001b[31m   \u001b[0m /Users/ivanlopatkin/opt/anaconda3/lib/python3.9/site-packages/setuptools/dist.py:755: SetuptoolsDeprecationWarning: Invalid dash-separated options\n",
      "  \u001b[31m   \u001b[0m !!\n",
      "  \u001b[31m   \u001b[0m \n",
      "  \u001b[31m   \u001b[0m         ********************************************************************************\n",
      "  \u001b[31m   \u001b[0m         Usage of dash-separated 'author-email' will not be supported in future\n",
      "  \u001b[31m   \u001b[0m         versions. Please use the underscore name 'author_email' instead.\n",
      "  \u001b[31m   \u001b[0m \n",
      "  \u001b[31m   \u001b[0m         This deprecation is overdue, please update your project and remove deprecated\n",
      "  \u001b[31m   \u001b[0m         calls to avoid build errors in the future.\n",
      "  \u001b[31m   \u001b[0m \n",
      "  \u001b[31m   \u001b[0m         See https://setuptools.pypa.io/en/latest/userguide/declarative_config.html for details.\n",
      "  \u001b[31m   \u001b[0m         ********************************************************************************\n",
      "  \u001b[31m   \u001b[0m \n",
      "  \u001b[31m   \u001b[0m !!\n",
      "  \u001b[31m   \u001b[0m   opt = self.warn_dash_deprecation(opt, section)\n",
      "  \u001b[31m   \u001b[0m /Users/ivanlopatkin/opt/anaconda3/lib/python3.9/site-packages/setuptools/dist.py:755: SetuptoolsDeprecationWarning: Invalid dash-separated options\n",
      "  \u001b[31m   \u001b[0m !!\n",
      "  \u001b[31m   \u001b[0m \n",
      "  \u001b[31m   \u001b[0m         ********************************************************************************\n",
      "  \u001b[31m   \u001b[0m         Usage of dash-separated 'home-page' will not be supported in future\n",
      "  \u001b[31m   \u001b[0m         versions. Please use the underscore name 'home_page' instead.\n",
      "  \u001b[31m   \u001b[0m \n",
      "  \u001b[31m   \u001b[0m         This deprecation is overdue, please update your project and remove deprecated\n",
      "  \u001b[31m   \u001b[0m         calls to avoid build errors in the future.\n",
      "  \u001b[31m   \u001b[0m \n",
      "  \u001b[31m   \u001b[0m         See https://setuptools.pypa.io/en/latest/userguide/declarative_config.html for details.\n",
      "  \u001b[31m   \u001b[0m         ********************************************************************************\n",
      "  \u001b[31m   \u001b[0m \n",
      "  \u001b[31m   \u001b[0m !!\n",
      "  \u001b[31m   \u001b[0m   opt = self.warn_dash_deprecation(opt, section)\n",
      "  \u001b[31m   \u001b[0m /Users/ivanlopatkin/opt/anaconda3/lib/python3.9/site-packages/setuptools/__init__.py:84: _DeprecatedInstaller: setuptools.installer and fetch_build_eggs are deprecated.\n",
      "  \u001b[31m   \u001b[0m !!\n",
      "  \u001b[31m   \u001b[0m \n",
      "  \u001b[31m   \u001b[0m         ********************************************************************************\n",
      "  \u001b[31m   \u001b[0m         Requirements should be satisfied by a PEP 517 installer.\n",
      "  \u001b[31m   \u001b[0m         If you are using pip, you can try `pip install --use-pep517`.\n",
      "  \u001b[31m   \u001b[0m         ********************************************************************************\n",
      "  \u001b[31m   \u001b[0m \n",
      "  \u001b[31m   \u001b[0m !!\n",
      "  \u001b[31m   \u001b[0m   dist.fetch_build_eggs(dist.setup_requires)\n",
      "  \u001b[31m   \u001b[0m /Users/ivanlopatkin/opt/anaconda3/lib/python3.9/site-packages/setuptools/command/develop.py:40: EasyInstallDeprecationWarning: easy_install command is deprecated.\n",
      "  \u001b[31m   \u001b[0m !!\n",
      "  \u001b[31m   \u001b[0m \n",
      "  \u001b[31m   \u001b[0m         ********************************************************************************\n",
      "  \u001b[31m   \u001b[0m         Please avoid running ``setup.py`` and ``easy_install``.\n",
      "  \u001b[31m   \u001b[0m         Instead, use pypa/build, pypa/installer, pypa/build or\n",
      "  \u001b[31m   \u001b[0m         other standards-based tools.\n",
      "  \u001b[31m   \u001b[0m \n",
      "  \u001b[31m   \u001b[0m         See https://github.com/pypa/setuptools/issues/917 for details.\n",
      "  \u001b[31m   \u001b[0m         ********************************************************************************\n",
      "  \u001b[31m   \u001b[0m \n",
      "  \u001b[31m   \u001b[0m !!\n",
      "  \u001b[31m   \u001b[0m   easy_install.initialize_options(self)\n",
      "  \u001b[31m   \u001b[0m /Users/ivanlopatkin/opt/anaconda3/lib/python3.9/site-packages/setuptools/_distutils/cmd.py:66: SetuptoolsDeprecationWarning: setup.py install is deprecated.\n",
      "  \u001b[31m   \u001b[0m !!\n",
      "  \u001b[31m   \u001b[0m \n",
      "  \u001b[31m   \u001b[0m         ********************************************************************************\n",
      "  \u001b[31m   \u001b[0m         Please avoid running ``setup.py`` directly.\n",
      "  \u001b[31m   \u001b[0m         Instead, use pypa/build, pypa/installer, pypa/build or\n",
      "  \u001b[31m   \u001b[0m         other standards-based tools.\n",
      "  \u001b[31m   \u001b[0m \n",
      "  \u001b[31m   \u001b[0m         See https://blog.ganssle.io/articles/2021/10/setup-py-deprecated.html for details.\n",
      "  \u001b[31m   \u001b[0m         ********************************************************************************\n",
      "  \u001b[31m   \u001b[0m \n",
      "  \u001b[31m   \u001b[0m !!\n",
      "  \u001b[31m   \u001b[0m   self.initialize_options()\n",
      "  \u001b[31m   \u001b[0m error in setup command: 'tests_require' must be a string or list of strings containing valid project/version requirement specifiers; Expected end or semicolon (after version specifier)\n",
      "  \u001b[31m   \u001b[0m     pytz>=2010h\n",
      "  \u001b[31m   \u001b[0m         ~~~~~~^\n",
      "  \u001b[31m   \u001b[0m \u001b[31m[end of output]\u001b[0m\n",
      "  \n",
      "  \u001b[1;35mnote\u001b[0m: This error originates from a subprocess, and is likely not a problem with pip.\n",
      "\u001b[1;31merror\u001b[0m: \u001b[1mmetadata-generation-failed\u001b[0m\n",
      "\n",
      "\u001b[31m×\u001b[0m Encountered error while generating package metadata.\n",
      "\u001b[31m╰─>\u001b[0m See above for output.\n",
      "\n",
      "\u001b[1;35mnote\u001b[0m: This is an issue with the package mentioned above, not pip.\n",
      "\u001b[1;36mhint\u001b[0m: See above for details.\n",
      "\u001b[?25hNote: you may need to restart the kernel to use updated packages.\n"
     ]
    }
   ],
   "source": [
    "%pip install langchain\n",
    "%pip install -U langchain-community\n",
    "%pip install python-docx \n",
    "%pip install chromadb\n",
    "%pip install sentence-transformers\n",
    "%pip install camelot-py \n",
    "%pip install tabula-py \n",
    "%pip install python-docx \n",
    "%pip install ghostscript\n",
    "%pip install camelot\n",
    "\n"
   ]
  },
  {
   "cell_type": "code",
   "execution_count": 3,
   "metadata": {
    "tags": []
   },
   "outputs": [],
   "source": [
    "from langchain.document_loaders import DirectoryLoader, TextLoader\n",
    "from langchain.text_splitter import RecursiveCharacterTextSplitter\n",
    "from langchain.vectorstores import Chroma\n",
    "from langchain.embeddings import HuggingFaceEmbeddings\n",
    "import requests\n",
    "import re\n"
   ]
  },
  {
   "cell_type": "code",
   "execution_count": 4,
   "metadata": {
    "tags": []
   },
   "outputs": [],
   "source": [
    "import torch\n",
    "import os\n",
    "from docx import Document\n"
   ]
  },
  {
   "cell_type": "code",
   "execution_count": 5,
   "metadata": {},
   "outputs": [
    {
     "name": "stderr",
     "output_type": "stream",
     "text": [
      "/Users/ivanlopatkin/opt/anaconda3/lib/python3.9/site-packages/pandas/core/computation/expressions.py:21: UserWarning: Pandas requires version '2.8.4' or newer of 'numexpr' (version '2.8.3' currently installed).\n",
      "  from pandas.core.computation.check import NUMEXPR_INSTALLED\n",
      "/Users/ivanlopatkin/opt/anaconda3/lib/python3.9/site-packages/pandas/core/arrays/masked.py:60: UserWarning: Pandas requires version '1.3.6' or newer of 'bottleneck' (version '1.3.5' currently installed).\n",
      "  from pandas.core import (\n"
     ]
    }
   ],
   "source": [
    "import camelot\n",
    "import tabula\n",
    "from docx import Document\n",
    "from tqdm import tqdm\n",
    "import pandas as pd\n",
    "import time\n",
    "# import pythoncom\n",
    "# from win32com.client import Dispatch\n",
    "import requests"
   ]
  },
  {
   "cell_type": "code",
   "execution_count": 6,
   "metadata": {
    "tags": []
   },
   "outputs": [],
   "source": [
    "def clean_text(text):\n",
    "    \"\"\"\n",
    "    Функция для удаления \"мусора\" из текста, такого как пустые строки, таблицы,\n",
    "    лишние пробелы, номера пунктов и лишние символы.\n",
    "    \"\"\"\n",
    "    # Удаление лишних символов табуляции, переносов строк и последовательностей пробелов\n",
    "    cleaned_text = re.sub(r'\\n+', '\\n', text)  # Удаление повторяющихся переносов строк\n",
    "    cleaned_text = re.sub(r'\\s+', ' ', cleaned_text)  # Замена множественных пробелов на один пробел\n",
    "\n",
    "    # Удаление строк, содержащих \"Таблица\" и другие нерелевантные технические данные\n",
    "    cleaned_text = re.sub(r'(Таблица\\s*\\d+\\.\\d+|Приложение\\s*\\d+)', '', cleaned_text)\n",
    "    \n",
    "    # Удаление номеров пунктов и заголовков с номерами (например, 2.3.1, 4 ХАРАКТЕРИСТИКИ ИЗАВ)\n",
    "    cleaned_text = re.sub(r'(\\d+\\.\\d+(\\.\\d+)?|^\\d+[\\sА-Яа-яЁё ]+)', '', cleaned_text)\n",
    "\n",
    "    # Удаление оставшихся технических фрагментов\n",
    "    cleaned_text = re.sub(r'[^\\w\\s,.()ёЁА-Яа-я-]', '', cleaned_text)  # Удаление спецсимволов, кроме пунктуации\n",
    "    \n",
    "    # Удаление лишних пробелов, возникающих после чистки\n",
    "    cleaned_text = re.sub(r'\\s{2,}', ' ', cleaned_text).strip()\n",
    "    \n",
    "    return cleaned_text\n",
    "\n"
   ]
  },
  {
   "cell_type": "code",
   "execution_count": 7,
   "metadata": {
    "tags": []
   },
   "outputs": [],
   "source": [
    "def load_and_split_documents(documents_folder):\n",
    "    \"\"\"\n",
    "    Загрузка документов из локальной директории и разбиение их на фрагменты.\n",
    "    \"\"\"\n",
    "    # Загрузка документов с указанием кодировки utf-8\n",
    "    loader = DirectoryLoader(\n",
    "        documents_folder, glob=\"*.txt\", loader_cls=TextLoader, loader_kwargs={\"encoding\": \"utf-8\"}\n",
    "    )\n",
    "    documents = loader.load()\n",
    "    \n",
    "    for i in range(len(documents)):\n",
    "        documents[i].page_content = clean_text(documents[i].page_content)\n",
    "\n",
    "    # Разбиение документов на фрагменты\n",
    "    text_splitter = RecursiveCharacterTextSplitter(chunk_size=1000, chunk_overlap=100)\n",
    "    texts = text_splitter.split_documents(documents)\n",
    "    return texts"
   ]
  },
  {
   "cell_type": "code",
   "execution_count": 8,
   "metadata": {
    "tags": []
   },
   "outputs": [],
   "source": [
    "def create_vectorstore(texts, embedding_model_name):\n",
    "    \"\"\"\n",
    "    Создание эмбеддингов и сохранение их в векторном хранилище ChromaDB.\n",
    "    \"\"\"\n",
    "    # Создание эмбеддингов\n",
    "    embeddings = HuggingFaceEmbeddings(model_name=embedding_model_name)\n",
    "    \n",
    "    # Создание векторного хранилища ChromaDB\n",
    "    vectorstore = Chroma.from_documents(\n",
    "        documents=texts,\n",
    "        embedding=embeddings,\n",
    "        persist_directory=\"chroma_db\"\n",
    "    )\n",
    "    vectorstore.persist()\n",
    "    return vectorstore"
   ]
  },
  {
   "cell_type": "markdown",
   "metadata": {},
   "source": [
    "### Table Summarization part"
   ]
  },
  {
   "cell_type": "markdown",
   "metadata": {},
   "source": [
    "### Yandex GPT"
   ]
  },
  {
   "cell_type": "code",
   "execution_count": 9,
   "metadata": {},
   "outputs": [],
   "source": [
    "def call_api(system_prompt: str, prompt: str):\n",
    "    url = \"https://llm.api.cloud.yandex.net/foundationModels/v1/completion\" \n",
    "    \n",
    "    headers = {\n",
    "        \"Content-Type\": \"application/json\",\n",
    "        \"Authorization\": \"Api-Key AQVNwy5Z1_keoKl1F1R6BxAXLOKCiq5h1NEzd4Dw\", # апи ключ\n",
    "        \"x-folder-id\": \"b1ghupvijk4nvsbqtcv3\" # id каталога\n",
    "    }\n",
    "    \n",
    "    payload = {\n",
    "        \"modelUri\": \"gpt://b1ghupvijk4nvsbqtcv3/yandexgpt-32k/rc\", # модель https://yandex.cloud/ru/docs/foundation-models/concepts/yandexgpt/models\n",
    "\n",
    "        # опции\n",
    "        \"completionOptions\": {\n",
    "            \"stream\": False,\n",
    "            \"temperature\": 0.1,\n",
    "            \"maxTokens\": \"2000\"\n",
    "        },\n",
    "        \n",
    "        \"messages\": [\n",
    "            {\n",
    "                \"role\": \"system\",\n",
    "                \"text\": system_prompt\n",
    "            },\n",
    "            {\n",
    "                \"role\": \"user\",\n",
    "                \"text\": prompt\n",
    "            }\n",
    "        ]\n",
    "    }\n",
    "    response = requests.post(url, headers=headers, json=payload)\n",
    "    if response.status_code == 200:\n",
    "        result = response.json()\n",
    "        return result['result']['alternatives'][0]['message']['text']\n",
    "    else:\n",
    "        raise Exception(f\"API request failed with status code {response.status_code}: {response.text}\")"
   ]
  },
  {
   "cell_type": "code",
   "execution_count": 10,
   "metadata": {},
   "outputs": [],
   "source": [
    "def summarize_table_with_yandex(df, title):\n",
    "    table_text = df.to_string()\n",
    "    system_prompt = \"\"\"Ты опытный аналитик данных и можешь создавать качественные текстовые описания таблиц. Твоя задача — представить ключевые показатели, выявить основные тренды и сделать краткие, но точные выводы. Если таблица пустая или содержит мало данных, ничего не выводи. Старайся делать описание логичным и структурированным, добавляя такие элементы, как:\n",
    "                - Основные метрики (средние значения, медиана, стандартное отклонение),\n",
    "                - Важные тенденции (например, увеличение или уменьшение значений по столбцам или строкам),\n",
    "                - Выявление выбросов и экстремальных значений,\n",
    "                - Примеры или сравнительные выводы между значениями.\n",
    "                Если данные относятся к конкретным категориям (например, по времени, регионам, продуктам), выделяй это в описании.\"\"\"\n",
    "    user_prompt = f\"Таблица: {title}. {table_text} Создай качественное текстовое описание для данных из таблицы.\"\n",
    "\n",
    "    return call_api(system_prompt, user_prompt)"
   ]
  },
  {
   "cell_type": "markdown",
   "metadata": {},
   "source": [
    "### Экстракт только табличек"
   ]
  },
  {
   "cell_type": "code",
   "execution_count": 11,
   "metadata": {},
   "outputs": [],
   "source": [
    "def extract_and_summarize_tables(word_path, output_path=\"final_summary.txt\"):\n",
    "    # doc = set_web_layout(word_path)\n",
    "    doc = Document(word_path)\n",
    "    summaries = []\n",
    "    paragraphs = doc.paragraphs\n",
    "\n",
    "    for i, table in tqdm(enumerate(doc.tables)):\n",
    "        title = \"Без названия\"\n",
    "        for j, para in enumerate(paragraphs):\n",
    "            if para._element == table._element.getprevious():\n",
    "                title = paragraphs[j - 1].text if j > 0 else title\n",
    "                break\n",
    "\n",
    "        data = [[cell.text for cell in row.cells] for row in table.rows]\n",
    "        df = pd.DataFrame(data[1:], columns=data[0])\n",
    "\n",
    "        summary = summarize_table_with_yandex(df, title)\n",
    "        time.sleep(1)\n",
    "        summaries.append(f\"Название таблицы: {title}\\n{summary}\")\n",
    "\n",
    "    with open(output_path, \"w\", encoding=\"utf-8\") as file:\n",
    "        file.write(\"\\n---------------------------------\\n\".join(summaries))"
   ]
  },
  {
   "cell_type": "markdown",
   "metadata": {},
   "source": [
    "### Экстракт текста и табличек одновременно"
   ]
  },
  {
   "cell_type": "code",
   "execution_count": 14,
   "metadata": {},
   "outputs": [],
   "source": [
    "def extract_and_summarize_docx(word_path, output_path=\"final_summary.txt\"):\n",
    "    doc = Document(word_path)\n",
    "    summaries = []\n",
    "    paragraphs = doc.paragraphs\n",
    "    para_iter = iter(paragraphs) \n",
    "    \n",
    "    for table in tqdm(doc.tables, desc=\"Processing tables\"):\n",
    "        text_before_table = \"\"\n",
    "        for para in para_iter:\n",
    "            if para._element == table._element.getprevious():\n",
    "                break\n",
    "            text_before_table += para.text + \"\\n\"\n",
    "\n",
    "        title = \"Без названия\"\n",
    "        previous_paragraph = table._element.getprevious()\n",
    "        if previous_paragraph is not None:\n",
    "            title = previous_paragraph.text\n",
    "\n",
    "        data = [[cell.text for cell in row.cells] for row in table.rows]\n",
    "        df = pd.DataFrame(data[1:], columns=data[0])\n",
    "\n",
    "        summary = summarize_table_with_yandex(df, title)\n",
    "        time.sleep(1)\n",
    "        \n",
    "        summaries.append(text_before_table)\n",
    "        summaries.append(f\"Название таблицы: {title}\\n{summary}\\n\")\n",
    "\n",
    "    remaining_text = \"\".join([para.text + \"\\n\" for para in para_iter])\n",
    "    summaries.append(remaining_text)\n",
    "\n",
    "    # with open(output_path, \"w\", encoding=\"utf-8\") as file:\n",
    "    #     file.write(\"\\n---------------------------------\\n\".join(summaries))\n",
    "    \n",
    "    return \"\\n---------------------------------\\n\".join(summaries)"
   ]
  },
  {
   "cell_type": "code",
   "execution_count": 16,
   "metadata": {},
   "outputs": [],
   "source": [
    "word_path = ... # введи путь к тестовому файлу ../documents/...docx"
   ]
  },
  {
   "cell_type": "code",
   "execution_count": null,
   "metadata": {},
   "outputs": [],
   "source": [
    "dirty_text = extract_and_summarize_docx(word_path) # если нужно сохранить файл - закрой комменты в функции выше\n",
    "\n",
    "clean_text = clean_text(dirty_text) # препроцессинг всего того, что "
   ]
  },
  {
   "cell_type": "code",
   "execution_count": null,
   "metadata": {},
   "outputs": [],
   "source": []
  },
  {
   "cell_type": "markdown",
   "metadata": {},
   "source": []
  },
  {
   "cell_type": "code",
   "execution_count": null,
   "metadata": {
    "tags": []
   },
   "outputs": [],
   "source": [
    "from transformers import AutoTokenizer, AutoModelForQuestionAnswering, pipeline\n",
    "\n",
    "# Загрузка модели и токенизатора\n",
    "tokenizer = AutoTokenizer.from_pretrained(\"AlexKay/xlm-roberta-large-qa-multilingual-finedtuned-ru\")\n",
    "model = AutoModelForQuestionAnswering.from_pretrained(\"AlexKay/xlm-roberta-large-qa-multilingual-finedtuned-ru\")\n",
    "\n",
    "# Инициализация пайплайна\n",
    "qa_pipeline = pipeline(\"question-answering\", model=model, tokenizer=tokenizer)\n",
    "\n",
    "def run_query(retriever, query):\n",
    "    \"\"\"\n",
    "    Запуск поиска и генерация ответа с использованием модели xlm-roberta.\n",
    "    \"\"\"\n",
    "    # Получение релевантных документов\n",
    "    docs = retriever.get_relevant_documents(query)\n",
    "    \n",
    "    # Формирование контекста из документов\n",
    "    context = \"\\n\\n\".join([doc.page_content for doc in docs])\n",
    "    \n",
    "    # Если контекст пустой, возвращаем сообщение об ошибке\n",
    "    if not context:\n",
    "        return {\n",
    "            \"result\": \"Не удалось найти релевантный контекст для ответа.\",\n",
    "            \"source_documents\": docs\n",
    "        }\n",
    "    \n",
    "    # Использование модели для получения ответа\n",
    "    qa_input = {\n",
    "        'question': query,\n",
    "        'context': context\n",
    "    }\n",
    "#     print(qa_input)\n",
    "    # Вызов модели для генерации ответа\n",
    "    response = qa_pipeline(qa_input)\n",
    "    \n",
    "    # Возврат результата и исходных документов\n",
    "    result = {\n",
    "        \"result\": response['answer'],\n",
    "        \"source_documents\": docs\n",
    "    }\n",
    "    \n",
    "    return result\n"
   ]
  },
  {
   "cell_type": "code",
   "execution_count": null,
   "metadata": {
    "tags": []
   },
   "outputs": [],
   "source": [
    "def convert_docx_to_txt(folder_path):\n",
    "    # Проверяем, существует ли папка\n",
    "    if not os.path.isdir(folder_path):\n",
    "        print(f\"Папка {folder_path} не найдена.\")\n",
    "        return\n",
    "\n",
    "    # Проходим по всем файлам в указанной папке\n",
    "    for filename in os.listdir(folder_path):\n",
    "        if filename.endswith('.docx'):  # Проверяем, что это .docx файл\n",
    "            docx_path = os.path.join(folder_path, filename)\n",
    "            txt_path = os.path.join(folder_path, filename.replace('.docx', '.txt'))\n",
    "\n",
    "            # Чтение содержимого .docx файла\n",
    "            doc = Document(docx_path)\n",
    "            text = \"\"\n",
    "            for paragraph in doc.paragraphs:\n",
    "                text += paragraph.text + \"\\n\"\n",
    "\n",
    "            # Запись содержимого в .txt файл\n",
    "            with open(txt_path, 'w', encoding='utf-8') as txt_file:\n",
    "                txt_file.write(text)\n",
    "\n",
    "            print(f\"Файл {filename} успешно преобразован в {txt_path}\")\n",
    "\n",
    "# Пример использования\n"
   ]
  },
  {
   "cell_type": "code",
   "execution_count": 11,
   "metadata": {
    "execution": {
     "iopub.execute_input": "2024-10-26T15:23:47.803425Z",
     "iopub.status.busy": "2024-10-26T15:23:47.802966Z",
     "iopub.status.idle": "2024-10-26T15:23:47.809631Z",
     "shell.execute_reply": "2024-10-26T15:23:47.808458Z",
     "shell.execute_reply.started": "2024-10-26T15:23:47.803383Z"
    }
   },
   "outputs": [],
   "source": [
    "documents_folder = \"/kaggle/input/ecology-hack\"  # Путь к папке с документами\n",
    "query = \"Какие существуют типы источников выбросов? Привести примеры каждого источника.\"  # Пользовательский запрос"
   ]
  },
  {
   "cell_type": "code",
   "execution_count": 12,
   "metadata": {
    "execution": {
     "iopub.execute_input": "2024-10-26T15:23:48.978370Z",
     "iopub.status.busy": "2024-10-26T15:23:48.977880Z",
     "iopub.status.idle": "2024-10-26T15:23:49.074362Z",
     "shell.execute_reply": "2024-10-26T15:23:49.072966Z",
     "shell.execute_reply.started": "2024-10-26T15:23:48.978322Z"
    }
   },
   "outputs": [],
   "source": [
    "# Загрузка и разбиение документов\n",
    "texts = load_and_split_documents(documents_folder)"
   ]
  },
  {
   "cell_type": "code",
   "execution_count": 13,
   "metadata": {
    "execution": {
     "iopub.execute_input": "2024-10-26T15:23:51.764758Z",
     "iopub.status.busy": "2024-10-26T15:23:51.764197Z",
     "iopub.status.idle": "2024-10-26T15:23:51.775165Z",
     "shell.execute_reply": "2024-10-26T15:23:51.773785Z",
     "shell.execute_reply.started": "2024-10-26T15:23:51.764705Z"
    }
   },
   "outputs": [
    {
     "data": {
      "text/plain": [
       "([Document(metadata={'source': '/kaggle/input/ecology-hack/work_train_book_2.txt'}, page_content='Название таблицы Расчет рассеивания для Производственной площадки карьер I проведен на лето. Данная таблица представляет собой расчет рассеивания для Производственной площадки карьер I, проведенный на лето. В таблице представлены данные о расчетных площадках и точках, включая координаты, типы точек и комментарии. Основные метрики 1. Координаты середины 1-й стороны (м) - Среднее значение по X -299,60 м - Среднее значение по Y 80,20 м 2. Координаты середины 2-й стороны (м) - Среднее значение по X 400,40 м - Среднее значение по Y 80,20 м 3. Ширина (м) - Среднее значение 600,00 м 4. Зона влияния (м) - Среднее значение по ширине 50,00 м - Среднее значение по длине 50,00 м 5. Высота (м) - Среднее значение 2,00 м Важные тенденции - Координаты середины 1-й стороны (м) - Координаты X варьируются от -299,60 до 271,33 м. - Координаты Y варьируются от 3,79 до 260,38 м. - Координаты середины 2-й стороны (м) - Координаты X варьируются от 400,40 до -148,93 м. - Координаты Y варьируются от -4,60 до'),\n",
       "  Document(metadata={'source': '/kaggle/input/ecology-hack/work_train_book_2.txt'}, page_content='(м) - Координаты X варьируются от 400,40 до -148,93 м. - Координаты Y варьируются от -4,60 до 365,60 м. - Ширина (м) - Все значения равны 600,00 м. - Зона влияния (м) - Зоны влияния по ширине и длине равны 50,00 м. - Высота (м) - Все значения равны 2,00 м. Выбросы и экстремальные значения - Координаты середины 1-й стороны (м) - Наибольшее значение по X 271,33 м (точка 10) - Наибольшее значение по Y 260,38 м (точка 9) - Координаты середины 2-й стороны (м) - Наименьшее значение по X -148,93 м (точка 20) - Наименьшее значение по Y -4,60 м (точка 11) Примеры и сравнительные выводы - Точки на границе производственной зоны - Координаты X варьируются от -108,10 до 271,33 м. - Координаты Y варьируются от 3,79 до 260,38 м. - Точки на границе СЗЗ - Координаты X варьируются от -212,94 до 183,70 м. - Координаты Y варьируются от -96,36 до 360,00 м. - Точки на границе охранной зоны - Координаты X варьируются от 183,70 до 226,40 м. - Координаты Y варьируются от 358,90 до 365,60 м. - Точки на границе')],\n",
       " 95)"
      ]
     },
     "execution_count": 13,
     "metadata": {},
     "output_type": "execute_result"
    }
   ],
   "source": [
    "texts[:2], len(texts)"
   ]
  },
  {
   "cell_type": "code",
   "execution_count": 14,
   "metadata": {
    "execution": {
     "iopub.execute_input": "2024-10-26T15:23:53.862518Z",
     "iopub.status.busy": "2024-10-26T15:23:53.862043Z",
     "iopub.status.idle": "2024-10-26T15:23:53.870539Z",
     "shell.execute_reply": "2024-10-26T15:23:53.869089Z",
     "shell.execute_reply.started": "2024-10-26T15:23:53.862471Z"
    }
   },
   "outputs": [
    {
     "data": {
      "text/plain": [
       "997"
      ]
     },
     "execution_count": 14,
     "metadata": {},
     "output_type": "execute_result"
    }
   ],
   "source": [
    "len(texts[0].page_content)"
   ]
  },
  {
   "cell_type": "code",
   "execution_count": 15,
   "metadata": {
    "execution": {
     "iopub.execute_input": "2024-10-26T15:23:54.939513Z",
     "iopub.status.busy": "2024-10-26T15:23:54.938473Z",
     "iopub.status.idle": "2024-10-26T15:23:54.946942Z",
     "shell.execute_reply": "2024-10-26T15:23:54.945750Z",
     "shell.execute_reply.started": "2024-10-26T15:23:54.939461Z"
    }
   },
   "outputs": [
    {
     "data": {
      "text/plain": [
       "'cointegrated/rubert-tiny2'"
      ]
     },
     "execution_count": 15,
     "metadata": {},
     "output_type": "execute_result"
    }
   ],
   "source": [
    "'cointegrated/rubert-tiny2'"
   ]
  },
  {
   "cell_type": "code",
   "execution_count": 16,
   "metadata": {
    "execution": {
     "iopub.execute_input": "2024-10-26T15:23:57.525647Z",
     "iopub.status.busy": "2024-10-26T15:23:57.525210Z",
     "iopub.status.idle": "2024-10-26T15:25:31.099287Z",
     "shell.execute_reply": "2024-10-26T15:25:31.097943Z",
     "shell.execute_reply.started": "2024-10-26T15:23:57.525604Z"
    }
   },
   "outputs": [
    {
     "name": "stderr",
     "output_type": "stream",
     "text": [
      "/tmp/ipykernel_30/311526257.py:6: LangChainDeprecationWarning: The class `HuggingFaceEmbeddings` was deprecated in LangChain 0.2.2 and will be removed in 1.0. An updated version of the class exists in the :class:`~langchain-huggingface package and should be used instead. To use it run `pip install -U :class:`~langchain-huggingface` and import as `from :class:`~langchain_huggingface import HuggingFaceEmbeddings``.\n",
      "  embeddings = HuggingFaceEmbeddings(model_name=embedding_model_name)\n"
     ]
    },
    {
     "data": {
      "application/vnd.jupyter.widget-view+json": {
       "model_id": "ef2d2955456a47a0b7ffcf0dbfc4fd64",
       "version_major": 2,
       "version_minor": 0
      },
      "text/plain": [
       "modules.json:   0%|          | 0.00/368 [00:00<?, ?B/s]"
      ]
     },
     "metadata": {},
     "output_type": "display_data"
    },
    {
     "data": {
      "application/vnd.jupyter.widget-view+json": {
       "model_id": "ee586e21a61a4294948eb3325e9196a9",
       "version_major": 2,
       "version_minor": 0
      },
      "text/plain": [
       "README.md:   0%|          | 0.00/10.1k [00:00<?, ?B/s]"
      ]
     },
     "metadata": {},
     "output_type": "display_data"
    },
    {
     "data": {
      "application/vnd.jupyter.widget-view+json": {
       "model_id": "3dd06074ff28433b886c1f2fa6a2bed2",
       "version_major": 2,
       "version_minor": 0
      },
      "text/plain": [
       "sentence_bert_config.json:   0%|          | 0.00/56.0 [00:00<?, ?B/s]"
      ]
     },
     "metadata": {},
     "output_type": "display_data"
    },
    {
     "data": {
      "application/vnd.jupyter.widget-view+json": {
       "model_id": "fdcd8de63fe74bb7b58e667d60edcae7",
       "version_major": 2,
       "version_minor": 0
      },
      "text/plain": [
       "config.json:   0%|          | 0.00/887 [00:00<?, ?B/s]"
      ]
     },
     "metadata": {},
     "output_type": "display_data"
    },
    {
     "data": {
      "application/vnd.jupyter.widget-view+json": {
       "model_id": "1da592ab5a0d4e26aecbb9ddac910ba3",
       "version_major": 2,
       "version_minor": 0
      },
      "text/plain": [
       "model.safetensors:   0%|          | 0.00/513M [00:00<?, ?B/s]"
      ]
     },
     "metadata": {},
     "output_type": "display_data"
    },
    {
     "data": {
      "application/vnd.jupyter.widget-view+json": {
       "model_id": "1c94edec6aa740f2a73f0292501a0e8f",
       "version_major": 2,
       "version_minor": 0
      },
      "text/plain": [
       "tokenizer_config.json:   0%|          | 0.00/1.29k [00:00<?, ?B/s]"
      ]
     },
     "metadata": {},
     "output_type": "display_data"
    },
    {
     "data": {
      "application/vnd.jupyter.widget-view+json": {
       "model_id": "8fe6bcf4ea7c4a378ba162425dd73700",
       "version_major": 2,
       "version_minor": 0
      },
      "text/plain": [
       "vocab.txt:   0%|          | 0.00/576k [00:00<?, ?B/s]"
      ]
     },
     "metadata": {},
     "output_type": "display_data"
    },
    {
     "data": {
      "application/vnd.jupyter.widget-view+json": {
       "model_id": "c75efa0262e0490cb7c51e6b238bb29c",
       "version_major": 2,
       "version_minor": 0
      },
      "text/plain": [
       "special_tokens_map.json:   0%|          | 0.00/732 [00:00<?, ?B/s]"
      ]
     },
     "metadata": {},
     "output_type": "display_data"
    },
    {
     "data": {
      "application/vnd.jupyter.widget-view+json": {
       "model_id": "f7c7617967d64406901eb645ede15f87",
       "version_major": 2,
       "version_minor": 0
      },
      "text/plain": [
       "1_Pooling/config.json:   0%|          | 0.00/196 [00:00<?, ?B/s]"
      ]
     },
     "metadata": {},
     "output_type": "display_data"
    },
    {
     "name": "stderr",
     "output_type": "stream",
     "text": [
      "/tmp/ipykernel_30/311526257.py:14: LangChainDeprecationWarning: Since Chroma 0.4.x the manual persistence method is no longer supported as docs are automatically persisted.\n",
      "  vectorstore.persist()\n"
     ]
    }
   ],
   "source": [
    "# Создание векторного хранилища\n",
    "vectorstore = create_vectorstore(texts, 'sergeyzh/LaBSE-ru-turbo')"
   ]
  },
  {
   "cell_type": "code",
   "execution_count": 17,
   "metadata": {
    "execution": {
     "iopub.execute_input": "2024-10-26T15:25:31.102189Z",
     "iopub.status.busy": "2024-10-26T15:25:31.101347Z",
     "iopub.status.idle": "2024-10-26T15:25:31.110066Z",
     "shell.execute_reply": "2024-10-26T15:25:31.108944Z",
     "shell.execute_reply.started": "2024-10-26T15:25:31.102144Z"
    }
   },
   "outputs": [
    {
     "data": {
      "text/plain": [
       "<langchain_community.vectorstores.chroma.Chroma at 0x7e9b8f8d0f40>"
      ]
     },
     "execution_count": 17,
     "metadata": {},
     "output_type": "execute_result"
    }
   ],
   "source": [
    "vectorstore"
   ]
  },
  {
   "cell_type": "code",
   "execution_count": 23,
   "metadata": {
    "execution": {
     "iopub.execute_input": "2024-10-26T12:35:36.498093Z",
     "iopub.status.busy": "2024-10-26T12:35:36.497619Z",
     "iopub.status.idle": "2024-10-26T12:35:36.724035Z",
     "shell.execute_reply": "2024-10-26T12:35:36.722633Z",
     "shell.execute_reply.started": "2024-10-26T12:35:36.498054Z"
    }
   },
   "outputs": [
    {
     "name": "stderr",
     "output_type": "stream",
     "text": [
      "/tmp/ipykernel_30/3384211756.py:2: LangChainDeprecationWarning: The method `BaseRetriever.get_relevant_documents` was deprecated in langchain-core 0.1.46 and will be removed in 1.0. Use :meth:`~invoke` instead.\n",
      "  docs = retriever.get_relevant_documents(query)\n"
     ]
    }
   ],
   "source": [
    "retriever = vectorstore.as_retriever()\n",
    "docs = retriever.get_relevant_documents(query)\n",
    "    \n",
    "# Формирование контекста из документов\n",
    "context = \"\\n\\n\".join([doc.page_content for doc in docs])"
   ]
  },
  {
   "cell_type": "code",
   "execution_count": 27,
   "metadata": {
    "execution": {
     "iopub.execute_input": "2024-10-26T12:36:45.798805Z",
     "iopub.status.busy": "2024-10-26T12:36:45.798348Z",
     "iopub.status.idle": "2024-10-26T12:36:45.805811Z",
     "shell.execute_reply": "2024-10-26T12:36:45.803985Z",
     "shell.execute_reply.started": "2024-10-26T12:36:45.798753Z"
    }
   },
   "outputs": [],
   "source": [
    "prompt = f\"\"\"Ты — эксперт в области экологии, защиты окружающей среды и экологического права. Твоя задача — помогать пользователям находить ответы на вопросы об экологии, экологических нормах, правилах и стандартах.\n",
    "\n",
    "Контекст: {context}\n",
    "\n",
    "Вопрос: {query}\n",
    "\n",
    "Оцени, подходит ли данный контекст для ответа на вопрос. Если контекст является достаточным для ответа, используй его. В любом случае, предоставь максимально подробный и точный ответ на вопрос, используя всю свою экспертную информацию.\n",
    "\"\"\""
   ]
  },
  {
   "cell_type": "code",
   "execution_count": 29,
   "metadata": {
    "execution": {
     "iopub.execute_input": "2024-10-26T12:36:56.745372Z",
     "iopub.status.busy": "2024-10-26T12:36:56.744136Z",
     "iopub.status.idle": "2024-10-26T12:36:56.752172Z",
     "shell.execute_reply": "2024-10-26T12:36:56.751026Z",
     "shell.execute_reply.started": "2024-10-26T12:36:56.745313Z"
    }
   },
   "outputs": [
    {
     "data": {
      "text/plain": [
       "4011"
      ]
     },
     "execution_count": 29,
     "metadata": {},
     "output_type": "execute_result"
    }
   ],
   "source": [
    "len(prompt)"
   ]
  },
  {
   "cell_type": "code",
   "execution_count": null,
   "metadata": {},
   "outputs": [],
   "source": []
  },
  {
   "cell_type": "code",
   "execution_count": 21,
   "metadata": {
    "execution": {
     "iopub.execute_input": "2024-10-26T10:56:58.196189Z",
     "iopub.status.busy": "2024-10-26T10:56:58.195605Z",
     "iopub.status.idle": "2024-10-26T10:57:09.631051Z",
     "shell.execute_reply": "2024-10-26T10:57:09.629848Z",
     "shell.execute_reply.started": "2024-10-26T10:56:58.196129Z"
    }
   },
   "outputs": [
    {
     "name": "stderr",
     "output_type": "stream",
     "text": [
      "/tmp/ipykernel_30/1530947629.py:15: LangChainDeprecationWarning: The method `BaseRetriever.get_relevant_documents` was deprecated in langchain-core 0.1.46 and will be removed in 1.0. Use :meth:`~invoke` instead.\n",
      "  docs = retriever.get_relevant_documents(query)\n"
     ]
    },
    {
     "name": "stdout",
     "output_type": "stream",
     "text": [
      "{'question': 'Какие существуют типы источников выбросов? Привести примеры каждого источника.', 'context': 'с законодательством Российской Федерации в области охраны окружающей среды (технологическим нормативам выбросов, предельно допустимым выбросам, временно согласованным выбросам или временно разрешенным выбросам). 4 ХАРАКТЕРИСТИКИ ИЗАВ, ПОКАЗАТЕЛИ РАБОТЫ ГОУ, СУММАРНЫЕ ВЫБРОСЫ ПО ОНВ Источники выделения загрязняющих веществ Источники выбросов загрязняющих веществ Источники выбросов загрязняющих веществ, имеющие произвольную форму Источники выбросов загрязняющих веществ, ось устья которых отклоняется от вертикали Источники выбросов загрязняющих веществ в случае факельного горения Результаты обследования установок очистки газа и условий их эксплуатации Суммарные выбросы ЗВ в атмосферный воздух, их очистка и утилизация (в целом по ОНВ), тгод 5 РЕЗУЛЬТАТЫ ОПРЕДЕЛЕНИЯ ВЫБРОСОВ ЗАГРЯЗНЯЮЩИХ ВЕЩЕСТВ РАСЧЕТНЫМИ МЕТОДАМИ Расчеты выбросов загрязняющих веществ от источников загрязнения представлены в Приложении 3. 6 ДОКУМЕНТИРОВАНИЕ ХАРАКТЕРИСТИК НЕСТАЦИОНАРНОСТИ ВЫБРОСОВ Режимы работы ИЗАВ и их\\n\\nстационарных источников с наибольшим воздействием на атмосферный воздух С.С.Лето Нормативы выбросов загрязняющих веществ в атмосферный воздух по конкретным стационарным источникам выбросов и загрязняющим веществам Таблица 6 Нормативы выбросов загрязняющих веществ в атмосферный воздух по объекту ОНВ Таблица 7 ПРИЛОЖЕНИЯ ПРИЛОЖЕНИЕ 1. Результаты расчетов полей максимальных приземных концентраций вредных веществ ПРИЛОЖЕНИЕ 2. Справочные данные ПРИЛОЖЕНИЕ 3. Графические материалы\\n\\nрасчётного определения выбросов представлены в Приложении 3 отчета инвентаризации. Расчет ИЗАВ 6001выполнен в соответствии со следующими методическими документами Методическое пособие по расчету, нормированию и контролю выбросов загрязняющих веществ в атмосферный воздух, СПб., НИИ Атмосфера, 2012 Методика проведения инвентаризации выбросов загрязняющих веществ в атмосферу для баз дорожной техники (расчетным методом). М, 1998 Дополнения к методике проведения инвентаризации выбросов загрязняющих веществ в атмосферу для баз дорожной техники (расчетным методом). М, 1999 Методическое пособием по расчету выбросов от неорганизованных источников в промышленности строительных материалов, Новороссийск, 2001 Временные методические указания по расчету выбросов загрязняющих веществ (пыли) в атмосферу при складировании и перегрузке сыпучих материалов на предприятиях речного флота, Белгород, 1992 Методические указания по определению выбросов загрязняющих веществ в атмосферу из резервуаров.\\n\\n(выбросов) загрязняющих веществ в атмосферу при сварочных работах (на основе удельных показателей), НИИ Атмосфера, Санкт-Петербург, 2015. Методика определения выбросов загрязняющих веществ в атмосферу при сжигании топлива в котлах производительностью менее 30 тонн пара в час или менее 20 ГКалл в час (с учетом методического письма НИИ Атмосфера 33533-07 от 17 мая 2000 г.), Москва, 1999. 6 ТАБЛИЦЫ Информация о географических, климатических и метеорологических характеристиках и коэффициентах района расположения объекта ОНВ, определяющих условия рассеивания выбросов Таблица 1 Сведения о стационарных источниках и выбросах (на момент разработки предельно допустимых выбросов) Таблица 2 Сведения о залповых выбросах Таблица 3 Полный перечень загрязняющих веществ, выбрасываемых в атмосферу Таблица 4 Перечень стационарных источников с наибольшим воздействием на атмосферный воздух М.Р.Лето Перечень стационарных источников с наибольшим воздействием на атмосферный воздух С.С.Лето Нормативы выбросов'}\n",
      "Ответ:\n",
      " стационарных\n",
      "\n",
      "Исходные документы:\n"
     ]
    }
   ],
   "source": [
    "# Настройка ретривера\n",
    "retriever = vectorstore.as_retriever()\n",
    "\n",
    "# Запуск запроса\n",
    "result = run_query(retriever, query)\n",
    "\n",
    "# Вывод ответа и исходных документов\n",
    "print(\"Ответ:\")\n",
    "print(result[\"result\"])\n",
    "print(\"\\nИсходные документы:\")\n",
    "# for doc in result[\"source_documents\"]:\n",
    "#     print(doc.metadata[\"source\"])\n"
   ]
  },
  {
   "cell_type": "code",
   "execution_count": null,
   "metadata": {},
   "outputs": [],
   "source": []
  },
  {
   "cell_type": "code",
   "execution_count": null,
   "metadata": {},
   "outputs": [],
   "source": []
  },
  {
   "cell_type": "code",
   "execution_count": null,
   "metadata": {},
   "outputs": [],
   "source": []
  },
  {
   "cell_type": "markdown",
   "metadata": {},
   "source": [
    "# Получение сабмишена"
   ]
  },
  {
   "cell_type": "code",
   "execution_count": 18,
   "metadata": {
    "execution": {
     "iopub.execute_input": "2024-10-26T15:25:31.112771Z",
     "iopub.status.busy": "2024-10-26T15:25:31.112311Z",
     "iopub.status.idle": "2024-10-26T15:26:19.687710Z",
     "shell.execute_reply": "2024-10-26T15:26:19.685880Z",
     "shell.execute_reply.started": "2024-10-26T15:25:31.112719Z"
    }
   },
   "outputs": [
    {
     "name": "stderr",
     "output_type": "stream",
     "text": [
      "huggingface/tokenizers: The current process just got forked, after parallelism has already been used. Disabling parallelism to avoid deadlocks...\n",
      "To disable this warning, you can either:\n",
      "\t- Avoid using `tokenizers` before the fork if possible\n",
      "\t- Explicitly set the environment variable TOKENIZERS_PARALLELISM=(true | false)\n"
     ]
    },
    {
     "name": "stdout",
     "output_type": "stream",
     "text": [
      "Requirement already satisfied: openpyxl in /opt/conda/lib/python3.10/site-packages (3.1.5)\n",
      "Requirement already satisfied: et-xmlfile in /opt/conda/lib/python3.10/site-packages (from openpyxl) (1.1.0)\n"
     ]
    },
    {
     "name": "stderr",
     "output_type": "stream",
     "text": [
      "huggingface/tokenizers: The current process just got forked, after parallelism has already been used. Disabling parallelism to avoid deadlocks...\n",
      "To disable this warning, you can either:\n",
      "\t- Avoid using `tokenizers` before the fork if possible\n",
      "\t- Explicitly set the environment variable TOKENIZERS_PARALLELISM=(true | false)\n",
      "huggingface/tokenizers: The current process just got forked, after parallelism has already been used. Disabling parallelism to avoid deadlocks...\n",
      "To disable this warning, you can either:\n",
      "\t- Avoid using `tokenizers` before the fork if possible\n",
      "\t- Explicitly set the environment variable TOKENIZERS_PARALLELISM=(true | false)\n"
     ]
    },
    {
     "name": "stdout",
     "output_type": "stream",
     "text": [
      "Requirement already satisfied: nltk in /opt/conda/lib/python3.10/site-packages (3.2.4)\n",
      "Collecting nltk\n",
      "  Downloading nltk-3.9.1-py3-none-any.whl.metadata (2.9 kB)\n",
      "Requirement already satisfied: click in /opt/conda/lib/python3.10/site-packages (from nltk) (8.1.7)\n",
      "Requirement already satisfied: joblib in /opt/conda/lib/python3.10/site-packages (from nltk) (1.4.2)\n",
      "Requirement already satisfied: regex>=2021.8.3 in /opt/conda/lib/python3.10/site-packages (from nltk) (2024.5.15)\n",
      "Requirement already satisfied: tqdm in /opt/conda/lib/python3.10/site-packages (from nltk) (4.66.4)\n",
      "Downloading nltk-3.9.1-py3-none-any.whl (1.5 MB)\n",
      "\u001b[2K   \u001b[90m━━━━━━━━━━━━━━━━━━━━━━━━━━━━━━━━━━━━━━━━\u001b[0m \u001b[32m1.5/1.5 MB\u001b[0m \u001b[31m22.3 MB/s\u001b[0m eta \u001b[36m0:00:00\u001b[0ma \u001b[36m0:00:01\u001b[0m\n",
      "\u001b[?25hInstalling collected packages: nltk\n",
      "  Attempting uninstall: nltk\n",
      "    Found existing installation: nltk 3.2.4\n",
      "    Uninstalling nltk-3.2.4:\n",
      "      Successfully uninstalled nltk-3.2.4\n",
      "\u001b[31mERROR: pip's dependency resolver does not currently take into account all the packages that are installed. This behaviour is the source of the following dependency conflicts.\n",
      "preprocessing 0.1.13 requires nltk==3.2.4, but you have nltk 3.9.1 which is incompatible.\u001b[0m\u001b[31m\n",
      "\u001b[0mSuccessfully installed nltk-3.9.1\n"
     ]
    }
   ],
   "source": [
    "!pip install openpyxl\n",
    "!pip install -q evaluate bert_score\n",
    "!pip install --upgrade nltk"
   ]
  },
  {
   "cell_type": "code",
   "execution_count": 19,
   "metadata": {
    "execution": {
     "iopub.execute_input": "2024-10-26T15:26:19.691969Z",
     "iopub.status.busy": "2024-10-26T15:26:19.691417Z",
     "iopub.status.idle": "2024-10-26T15:26:19.699295Z",
     "shell.execute_reply": "2024-10-26T15:26:19.697266Z",
     "shell.execute_reply.started": "2024-10-26T15:26:19.691912Z"
    }
   },
   "outputs": [],
   "source": [
    "import numpy as np\n",
    "import pandas as pd"
   ]
  },
  {
   "cell_type": "code",
   "execution_count": 20,
   "metadata": {
    "execution": {
     "iopub.execute_input": "2024-10-26T15:26:19.702170Z",
     "iopub.status.busy": "2024-10-26T15:26:19.701654Z",
     "iopub.status.idle": "2024-10-26T15:26:20.117599Z",
     "shell.execute_reply": "2024-10-26T15:26:20.116164Z",
     "shell.execute_reply.started": "2024-10-26T15:26:19.702117Z"
    }
   },
   "outputs": [
    {
     "data": {
      "text/html": [
       "<div>\n",
       "<style scoped>\n",
       "    .dataframe tbody tr th:only-of-type {\n",
       "        vertical-align: middle;\n",
       "    }\n",
       "\n",
       "    .dataframe tbody tr th {\n",
       "        vertical-align: top;\n",
       "    }\n",
       "\n",
       "    .dataframe thead th {\n",
       "        text-align: right;\n",
       "    }\n",
       "</style>\n",
       "<table border=\"1\" class=\"dataframe\">\n",
       "  <thead>\n",
       "    <tr style=\"text-align: right;\">\n",
       "      <th></th>\n",
       "      <th>Вопрос</th>\n",
       "      <th>Ответ</th>\n",
       "      <th>Документ</th>\n",
       "    </tr>\n",
       "    <tr>\n",
       "      <th>№ п/п</th>\n",
       "      <th></th>\n",
       "      <th></th>\n",
       "      <th></th>\n",
       "    </tr>\n",
       "  </thead>\n",
       "  <tbody>\n",
       "    <tr>\n",
       "      <th>1</th>\n",
       "      <td>Какие существуют типы источников выбросов? При...</td>\n",
       "      <td>Организованные (дымовые трубы, выходы вентиляц...</td>\n",
       "      <td>Нет</td>\n",
       "    </tr>\n",
       "    <tr>\n",
       "      <th>2</th>\n",
       "      <td>Расписать состав тома инвентаризации</td>\n",
       "      <td>ВВЕДЕНИЕ\\n1.СВЕДЕНИЯ О ХОЗЯЙСТВУЮЩЕМ СУБЪЕКТЕ,...</td>\n",
       "      <td>Нет</td>\n",
       "    </tr>\n",
       "    <tr>\n",
       "      <th>3</th>\n",
       "      <td>Для каких предприятий разрабатывается инвентар...</td>\n",
       "      <td>Инвентаризация стационарных источников и выбро...</td>\n",
       "      <td>Нет</td>\n",
       "    </tr>\n",
       "    <tr>\n",
       "      <th>4</th>\n",
       "      <td>Как присваиваются номера ИВ?</td>\n",
       "      <td>Для каждого ИЗАВ начиная с 01.</td>\n",
       "      <td>Нет</td>\n",
       "    </tr>\n",
       "    <tr>\n",
       "      <th>5</th>\n",
       "      <td>Какие бывают методы определения качественных и...</td>\n",
       "      <td>Инструментальные (лабораторные) и расчетные (н...</td>\n",
       "      <td>Нет</td>\n",
       "    </tr>\n",
       "  </tbody>\n",
       "</table>\n",
       "</div>"
      ],
      "text/plain": [
       "                                                  Вопрос  \\\n",
       "№ п/п                                                      \n",
       "1      Какие существуют типы источников выбросов? При...   \n",
       "2                   Расписать состав тома инвентаризации   \n",
       "3      Для каких предприятий разрабатывается инвентар...   \n",
       "4                           Как присваиваются номера ИВ?   \n",
       "5      Какие бывают методы определения качественных и...   \n",
       "\n",
       "                                                   Ответ Документ  \n",
       "№ п/п                                                              \n",
       "1      Организованные (дымовые трубы, выходы вентиляц...      Нет  \n",
       "2      ВВЕДЕНИЕ\\n1.СВЕДЕНИЯ О ХОЗЯЙСТВУЮЩЕМ СУБЪЕКТЕ,...      Нет  \n",
       "3      Инвентаризация стационарных источников и выбро...      Нет  \n",
       "4                         Для каждого ИЗАВ начиная с 01.      Нет  \n",
       "5      Инструментальные (лабораторные) и расчетные (н...      Нет  "
      ]
     },
     "execution_count": 20,
     "metadata": {},
     "output_type": "execute_result"
    }
   ],
   "source": [
    "df = pd.read_excel(\"/kaggle/input/train-dset/train_dset.xlsx\", index_col=0)\n",
    "\n",
    "df.head(5)"
   ]
  },
  {
   "cell_type": "code",
   "execution_count": 21,
   "metadata": {
    "execution": {
     "iopub.execute_input": "2024-10-26T15:26:20.121426Z",
     "iopub.status.busy": "2024-10-26T15:26:20.120475Z",
     "iopub.status.idle": "2024-10-26T15:26:21.806612Z",
     "shell.execute_reply": "2024-10-26T15:26:21.805274Z",
     "shell.execute_reply.started": "2024-10-26T15:26:20.121338Z"
    }
   },
   "outputs": [],
   "source": [
    "import evaluate\n",
    "from evaluate import load\n",
    "import nltk"
   ]
  },
  {
   "cell_type": "code",
   "execution_count": 22,
   "metadata": {
    "execution": {
     "iopub.execute_input": "2024-10-26T15:26:21.809382Z",
     "iopub.status.busy": "2024-10-26T15:26:21.808747Z",
     "iopub.status.idle": "2024-10-26T15:26:23.629714Z",
     "shell.execute_reply": "2024-10-26T15:26:23.628143Z",
     "shell.execute_reply.started": "2024-10-26T15:26:21.809315Z"
    }
   },
   "outputs": [
    {
     "data": {
      "application/vnd.jupyter.widget-view+json": {
       "model_id": "b1949b62363946c2998c2b7d481d5477",
       "version_major": 2,
       "version_minor": 0
      },
      "text/plain": [
       "Downloading builder script:   0%|          | 0.00/7.02k [00:00<?, ?B/s]"
      ]
     },
     "metadata": {},
     "output_type": "display_data"
    },
    {
     "name": "stderr",
     "output_type": "stream",
     "text": [
      "[nltk_data] Downloading package wordnet to /usr/share/nltk_data...\n",
      "[nltk_data]   Package wordnet is already up-to-date!\n",
      "[nltk_data] Downloading package punkt_tab to /usr/share/nltk_data...\n",
      "[nltk_data]   Unzipping tokenizers/punkt_tab.zip.\n",
      "[nltk_data] Downloading package omw-1.4 to /usr/share/nltk_data...\n"
     ]
    },
    {
     "data": {
      "application/vnd.jupyter.widget-view+json": {
       "model_id": "e75919b81dc04d068068d86368f51deb",
       "version_major": 2,
       "version_minor": 0
      },
      "text/plain": [
       "Downloading builder script:   0%|          | 0.00/7.95k [00:00<?, ?B/s]"
      ]
     },
     "metadata": {},
     "output_type": "display_data"
    }
   ],
   "source": [
    "meteor = evaluate.load('meteor')\n",
    "bertscore = load(\"bertscore\")"
   ]
  },
  {
   "cell_type": "code",
   "execution_count": 23,
   "metadata": {
    "execution": {
     "iopub.execute_input": "2024-10-26T15:26:23.632011Z",
     "iopub.status.busy": "2024-10-26T15:26:23.631474Z",
     "iopub.status.idle": "2024-10-26T15:26:40.168660Z",
     "shell.execute_reply": "2024-10-26T15:26:40.166995Z",
     "shell.execute_reply.started": "2024-10-26T15:26:23.631955Z"
    }
   },
   "outputs": [
    {
     "name": "stderr",
     "output_type": "stream",
     "text": [
      "huggingface/tokenizers: The current process just got forked, after parallelism has already been used. Disabling parallelism to avoid deadlocks...\n",
      "To disable this warning, you can either:\n",
      "\t- Avoid using `tokenizers` before the fork if possible\n",
      "\t- Explicitly set the environment variable TOKENIZERS_PARALLELISM=(true | false)\n"
     ]
    },
    {
     "name": "stdout",
     "output_type": "stream",
     "text": [
      "Collecting mistralai\n",
      "  Downloading mistralai-1.1.0-py3-none-any.whl.metadata (23 kB)\n",
      "Requirement already satisfied: eval-type-backport<0.3.0,>=0.2.0 in /opt/conda/lib/python3.10/site-packages (from mistralai) (0.2.0)\n",
      "Requirement already satisfied: httpx<0.28.0,>=0.27.0 in /opt/conda/lib/python3.10/site-packages (from mistralai) (0.27.0)\n",
      "Collecting jsonpath-python<2.0.0,>=1.0.6 (from mistralai)\n",
      "  Downloading jsonpath_python-1.0.6-py3-none-any.whl.metadata (12 kB)\n",
      "Requirement already satisfied: pydantic<3.0.0,>=2.9.0 in /opt/conda/lib/python3.10/site-packages (from mistralai) (2.9.2)\n",
      "Collecting python-dateutil==2.8.2 (from mistralai)\n",
      "  Downloading python_dateutil-2.8.2-py2.py3-none-any.whl.metadata (8.2 kB)\n",
      "Requirement already satisfied: typing-inspect<0.10.0,>=0.9.0 in /opt/conda/lib/python3.10/site-packages (from mistralai) (0.9.0)\n",
      "Requirement already satisfied: six>=1.5 in /opt/conda/lib/python3.10/site-packages (from python-dateutil==2.8.2->mistralai) (1.16.0)\n",
      "Requirement already satisfied: anyio in /opt/conda/lib/python3.10/site-packages (from httpx<0.28.0,>=0.27.0->mistralai) (4.4.0)\n",
      "Requirement already satisfied: certifi in /opt/conda/lib/python3.10/site-packages (from httpx<0.28.0,>=0.27.0->mistralai) (2024.8.30)\n",
      "Requirement already satisfied: httpcore==1.* in /opt/conda/lib/python3.10/site-packages (from httpx<0.28.0,>=0.27.0->mistralai) (1.0.5)\n",
      "Requirement already satisfied: idna in /opt/conda/lib/python3.10/site-packages (from httpx<0.28.0,>=0.27.0->mistralai) (3.7)\n",
      "Requirement already satisfied: sniffio in /opt/conda/lib/python3.10/site-packages (from httpx<0.28.0,>=0.27.0->mistralai) (1.3.1)\n",
      "Requirement already satisfied: h11<0.15,>=0.13 in /opt/conda/lib/python3.10/site-packages (from httpcore==1.*->httpx<0.28.0,>=0.27.0->mistralai) (0.14.0)\n",
      "Requirement already satisfied: annotated-types>=0.6.0 in /opt/conda/lib/python3.10/site-packages (from pydantic<3.0.0,>=2.9.0->mistralai) (0.7.0)\n",
      "Requirement already satisfied: pydantic-core==2.23.4 in /opt/conda/lib/python3.10/site-packages (from pydantic<3.0.0,>=2.9.0->mistralai) (2.23.4)\n",
      "Requirement already satisfied: typing-extensions>=4.6.1 in /opt/conda/lib/python3.10/site-packages (from pydantic<3.0.0,>=2.9.0->mistralai) (4.12.2)\n",
      "Requirement already satisfied: mypy-extensions>=0.3.0 in /opt/conda/lib/python3.10/site-packages (from typing-inspect<0.10.0,>=0.9.0->mistralai) (1.0.0)\n",
      "Requirement already satisfied: exceptiongroup>=1.0.2 in /opt/conda/lib/python3.10/site-packages (from anyio->httpx<0.28.0,>=0.27.0->mistralai) (1.2.0)\n",
      "Downloading mistralai-1.1.0-py3-none-any.whl (229 kB)\n",
      "\u001b[2K   \u001b[90m━━━━━━━━━━━━━━━━━━━━━━━━━━━━━━━━━━━━━━━━\u001b[0m \u001b[32m229.7/229.7 kB\u001b[0m \u001b[31m5.9 MB/s\u001b[0m eta \u001b[36m0:00:00\u001b[0m:00:01\u001b[0m\n",
      "\u001b[?25hDownloading python_dateutil-2.8.2-py2.py3-none-any.whl (247 kB)\n",
      "\u001b[2K   \u001b[90m━━━━━━━━━━━━━━━━━━━━━━━━━━━━━━━━━━━━━━━━\u001b[0m \u001b[32m247.7/247.7 kB\u001b[0m \u001b[31m12.6 MB/s\u001b[0m eta \u001b[36m0:00:00\u001b[0m\n",
      "\u001b[?25hDownloading jsonpath_python-1.0.6-py3-none-any.whl (7.6 kB)\n",
      "Installing collected packages: python-dateutil, jsonpath-python, mistralai\n",
      "  Attempting uninstall: python-dateutil\n",
      "    Found existing installation: python-dateutil 2.9.0.post0\n",
      "    Uninstalling python-dateutil-2.9.0.post0:\n",
      "      Successfully uninstalled python-dateutil-2.9.0.post0\n",
      "\u001b[31mERROR: pip's dependency resolver does not currently take into account all the packages that are installed. This behaviour is the source of the following dependency conflicts.\n",
      "apache-beam 2.46.0 requires cloudpickle~=2.2.1, but you have cloudpickle 3.0.0 which is incompatible.\n",
      "apache-beam 2.46.0 requires dill<0.3.2,>=0.3.1.1, but you have dill 0.3.8 which is incompatible.\n",
      "apache-beam 2.46.0 requires numpy<1.25.0,>=1.14.3, but you have numpy 1.26.4 which is incompatible.\n",
      "apache-beam 2.46.0 requires pyarrow<10.0.0,>=3.0.0, but you have pyarrow 17.0.0 which is incompatible.\n",
      "google-cloud-bigquery 2.34.4 requires packaging<22.0dev,>=14.3, but you have packaging 24.1 which is incompatible.\n",
      "ibis-framework 7.1.0 requires pyarrow<15,>=2, but you have pyarrow 17.0.0 which is incompatible.\n",
      "jupyterlab 4.2.5 requires jupyter-lsp>=2.0.0, but you have jupyter-lsp 1.5.1 which is incompatible.\n",
      "jupyterlab-lsp 5.1.0 requires jupyter-lsp>=2.0.0, but you have jupyter-lsp 1.5.1 which is incompatible.\n",
      "ydata-profiling 4.10.0 requires scipy<1.14,>=1.4.1, but you have scipy 1.14.1 which is incompatible.\u001b[0m\u001b[31m\n",
      "\u001b[0mSuccessfully installed jsonpath-python-1.0.6 mistralai-1.1.0 python-dateutil-2.8.2\n"
     ]
    }
   ],
   "source": [
    "!pip install mistralai"
   ]
  },
  {
   "cell_type": "code",
   "execution_count": 24,
   "metadata": {
    "execution": {
     "iopub.execute_input": "2024-10-26T15:26:40.171155Z",
     "iopub.status.busy": "2024-10-26T15:26:40.170671Z",
     "iopub.status.idle": "2024-10-26T15:26:40.604978Z",
     "shell.execute_reply": "2024-10-26T15:26:40.603307Z",
     "shell.execute_reply.started": "2024-10-26T15:26:40.171099Z"
    }
   },
   "outputs": [],
   "source": [
    "from mistralai import Mistral"
   ]
  },
  {
   "cell_type": "code",
   "execution_count": 25,
   "metadata": {
    "execution": {
     "iopub.execute_input": "2024-10-26T15:26:40.609559Z",
     "iopub.status.busy": "2024-10-26T15:26:40.609025Z",
     "iopub.status.idle": "2024-10-26T15:26:40.646013Z",
     "shell.execute_reply": "2024-10-26T15:26:40.644677Z",
     "shell.execute_reply.started": "2024-10-26T15:26:40.609491Z"
    }
   },
   "outputs": [],
   "source": [
    "api_key = '1MbVc4n2iUxhJgOx1lfaUXuXJtzOVG0b'\n",
    "\n",
    "model = \"mistral-large-latest\"\n",
    "client = Mistral(api_key=api_key)\n",
    "\n"
   ]
  },
  {
   "cell_type": "code",
   "execution_count": 26,
   "metadata": {
    "execution": {
     "iopub.execute_input": "2024-10-26T15:26:40.648360Z",
     "iopub.status.busy": "2024-10-26T15:26:40.647847Z",
     "iopub.status.idle": "2024-10-26T15:26:40.659289Z",
     "shell.execute_reply": "2024-10-26T15:26:40.656781Z",
     "shell.execute_reply.started": "2024-10-26T15:26:40.648314Z"
    }
   },
   "outputs": [
    {
     "data": {
      "text/plain": [
       "84"
      ]
     },
     "execution_count": 26,
     "metadata": {},
     "output_type": "execute_result"
    }
   ],
   "source": [
    "len(df)"
   ]
  },
  {
   "cell_type": "code",
   "execution_count": 27,
   "metadata": {
    "execution": {
     "iopub.execute_input": "2024-10-26T15:26:40.662904Z",
     "iopub.status.busy": "2024-10-26T15:26:40.662095Z",
     "iopub.status.idle": "2024-10-26T15:26:40.671032Z",
     "shell.execute_reply": "2024-10-26T15:26:40.668363Z",
     "shell.execute_reply.started": "2024-10-26T15:26:40.662612Z"
    }
   },
   "outputs": [],
   "source": [
    "answers = []"
   ]
  },
  {
   "cell_type": "code",
   "execution_count": null,
   "metadata": {
    "execution": {
     "iopub.execute_input": "2024-10-26T15:31:01.668066Z",
     "iopub.status.busy": "2024-10-26T15:31:01.666750Z"
    }
   },
   "outputs": [
    {
     "name": "stderr",
     "output_type": "stream",
     "text": [
      "/tmp/ipykernel_30/1122691930.py:5: LangChainDeprecationWarning: The method `BaseRetriever.get_relevant_documents` was deprecated in langchain-core 0.1.46 and will be removed in 1.0. Use :meth:`~invoke` instead.\n",
      "  docs = retriever.get_relevant_documents(query)\n"
     ]
    },
    {
     "name": "stdout",
     "output_type": "stream",
     "text": [
      "1\n",
      "2\n",
      "3\n",
      "4\n"
     ]
    }
   ],
   "source": [
    "# for i in range(len(df)):\n",
    "#     query = df.iloc[i]['Вопрос']\n",
    "    \n",
    "#     retriever = vectorstore.as_retriever()\n",
    "#     docs = retriever.get_relevant_documents(query)\n",
    "#     # Формирование контекста из документов\n",
    "#     context = \"\\n\".join([doc.page_content for doc in docs])\n",
    "    \n",
    "#     prompt = f\"\"\"Контекст: {context}\n",
    "#     Вопрос: {query}\n",
    "#     Оцени, подходит ли данный контекст для ответа на вопрос! Если контекст является достаточным для ответа, используй его. В любом случае, предоставь максимально подробный и точный ответ на вопрос, используя всю свою экспертную информацию.\n",
    "#     \"\"\"\n",
    "    \n",
    "#     chat_response = client.chat.complete(\n",
    "#     model=model,\n",
    "#     messages=[\n",
    "#         {\"role\": \"system\", \"content\":\"Ты — эксперт в области экологии, защиты окружающей среды и экологического права. Твоя задача — помогать пользователям находить ответы на вопросы об экологии, экологических нормах, правилах и стандартах!\"},\n",
    "#         {\"role\": \"user\", \"content\": prompt}\n",
    "#     ]\n",
    "#     )\n",
    "#     answers.append(chat_response)\n",
    "#     print(i+1)"
   ]
  },
  {
   "cell_type": "code",
   "execution_count": null,
   "metadata": {},
   "outputs": [],
   "source": [
    "answers[:3], len(answers)"
   ]
  },
  {
   "cell_type": "code",
   "execution_count": null,
   "metadata": {},
   "outputs": [],
   "source": [
    "answers_text = [answers[i].choices[0].message.content for i in range(len(answers))]\n",
    "answers_text[:3], len(answers_text)"
   ]
  },
  {
   "cell_type": "code",
   "execution_count": null,
   "metadata": {},
   "outputs": [],
   "source": [
    "df['Ответ_модели'] = answers_text"
   ]
  },
  {
   "cell_type": "code",
   "execution_count": null,
   "metadata": {},
   "outputs": [],
   "source": [
    "df.head()"
   ]
  },
  {
   "cell_type": "code",
   "execution_count": null,
   "metadata": {},
   "outputs": [],
   "source": [
    "score_meteor = meteor.compute(predictions=df['Вопрос'].values.tolist(), references=df['Ответ_модели'].values.tolist())\n",
    "print (score_meteor)"
   ]
  },
  {
   "cell_type": "code",
   "execution_count": null,
   "metadata": {},
   "outputs": [],
   "source": [
    "score_bert = bertscore.compute(predictions=df['Вопрос'].values.tolist(), references=df['Ответ_модели'].values.tolist(), lang=\"ru\")"
   ]
  },
  {
   "cell_type": "code",
   "execution_count": null,
   "metadata": {},
   "outputs": [],
   "source": [
    "print ('Presicion', np.array(score_bert['precision']).mean())\n",
    "print ('Recall', np.array(score_bert['recall']).mean())\n",
    "print ('F1', np.array(score_bert['f1']).mean())"
   ]
  },
  {
   "cell_type": "code",
   "execution_count": null,
   "metadata": {},
   "outputs": [],
   "source": []
  }
 ],
 "metadata": {
  "kaggle": {
   "accelerator": "none",
   "dataSources": [
    {
     "datasetId": 5949555,
     "sourceId": 9723609,
     "sourceType": "datasetVersion"
    },
    {
     "datasetId": 5949655,
     "sourceId": 9728827,
     "sourceType": "datasetVersion"
    },
    {
     "datasetId": 5953379,
     "sourceId": 9728771,
     "sourceType": "datasetVersion"
    }
   ],
   "dockerImageVersionId": 30786,
   "isGpuEnabled": false,
   "isInternetEnabled": true,
   "language": "python",
   "sourceType": "notebook"
  },
  "kernelspec": {
   "display_name": "Python 3 (ipykernel)",
   "language": "python",
   "name": "python3"
  },
  "language_info": {
   "codemirror_mode": {
    "name": "ipython",
    "version": 3
   },
   "file_extension": ".py",
   "mimetype": "text/x-python",
   "name": "python",
   "nbconvert_exporter": "python",
   "pygments_lexer": "ipython3",
   "version": "3.9.13"
  }
 },
 "nbformat": 4,
 "nbformat_minor": 4
}
